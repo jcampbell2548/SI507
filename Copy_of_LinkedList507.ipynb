{
  "nbformat": 4,
  "nbformat_minor": 0,
  "metadata": {
    "colab": {
      "provenance": []
    },
    "kernelspec": {
      "name": "python3",
      "display_name": "Python 3"
    },
    "language_info": {
      "name": "python"
    }
  },
  "cells": [
    {
      "cell_type": "markdown",
      "source": [
        "# [tinyurl.com/LinkedList507](https://tinyurl.com/LinkedList507)"
      ],
      "metadata": {
        "id": "5m1bkbPua8ll"
      }
    },
    {
      "cell_type": "markdown",
      "source": [
        "Lets develop an example to prove the performance differences between lists and Linked Lists"
      ],
      "metadata": {
        "id": "BfPjiU752q37"
      }
    },
    {
      "cell_type": "code",
      "execution_count": 1,
      "metadata": {
        "id": "ex5qhpdOaxix"
      },
      "outputs": [],
      "source": [
        "import time\n",
        "n = 100000\n",
        "\n",
        "list_1 = []\n",
        "list_2 = []\n"
      ]
    },
    {
      "cell_type": "markdown",
      "source": [
        "growing a list by inserting or appending at the end is very efficient!"
      ],
      "metadata": {
        "id": "ddMBpq_s20MR"
      }
    },
    {
      "cell_type": "code",
      "source": [
        "start_time = time.time()\n",
        "\n",
        "for x in range(n):\n",
        "  list_1.insert(x, 7)\n",
        "\n",
        "print(\"Inserting at end done in:\", time.time() - start_time, \"seconds\")"
      ],
      "metadata": {
        "id": "EAcKpG-mlOkD",
        "colab": {
          "base_uri": "https://localhost:8080/"
        },
        "outputId": "09820a18-59ef-4dcc-face-1cf6af857c65"
      },
      "execution_count": 2,
      "outputs": [
        {
          "output_type": "stream",
          "name": "stdout",
          "text": [
            "Inserting at end done in: 0.013672590255737305 seconds\n"
          ]
        }
      ]
    },
    {
      "cell_type": "code",
      "source": [
        "start_time = time.time()\n",
        "\n",
        "for x in range(n):\n",
        "  list_2.insert(0, 7)\n",
        "print(\"Inserting at beginning done in:\", time.time() - start_time, \"seconds\")"
      ],
      "metadata": {
        "id": "jZDqk6UhlbqG",
        "colab": {
          "base_uri": "https://localhost:8080/"
        },
        "outputId": "befb5c93-5f7a-442f-d491-691648e1a7cc"
      },
      "execution_count": 3,
      "outputs": [
        {
          "output_type": "stream",
          "name": "stdout",
          "text": [
            "Inserting at beginning done in: 2.0777392387390137 seconds\n"
          ]
        }
      ]
    },
    {
      "cell_type": "markdown",
      "source": [
        "Python lists are dynamic arrays. Inserting at the start is slow because all elements shift.  Linked lists solve this by allowing efficient insertions at the beginning without shifting."
      ],
      "metadata": {
        "id": "uY72s8ro3LlK"
      }
    },
    {
      "cell_type": "code",
      "source": [
        "#### develop a linked list\n",
        "## what type of objects do we need?\n",
        "## what methods and attributes do those objects need?\n",
        "\n",
        "class Node:\n",
        "  def __init__(self, initialData):\n",
        "    self.data = initialData\n",
        "    self.next = None\n",
        "\n",
        "  def setNext(self, NewNext):\n",
        "    self.next = NewNext\n",
        "\n",
        "  def setData(self, NewData):\n",
        "    self.data = NewData\n",
        "\n",
        "  def getNext(self):\n",
        "    return self.next\n",
        "\n",
        "  def getData(self):\n",
        "    return self.data\n"
      ],
      "metadata": {
        "id": "mhiZ_zbumI6f"
      },
      "execution_count": 4,
      "outputs": []
    },
    {
      "cell_type": "code",
      "source": [
        "node1 = Node(initialData = \"Monday\")\n",
        "node2 = Node(initialData = \"Tuesday\")"
      ],
      "metadata": {
        "id": "jcJ9rVFopgxk"
      },
      "execution_count": 5,
      "outputs": []
    },
    {
      "cell_type": "code",
      "source": [
        "print(node1)\n",
        "print(node2)"
      ],
      "metadata": {
        "id": "WZ2q-EcyrbI8",
        "colab": {
          "base_uri": "https://localhost:8080/"
        },
        "outputId": "c58c5b80-3584-43c4-c564-7f6c6deb55c6"
      },
      "execution_count": 6,
      "outputs": [
        {
          "output_type": "stream",
          "name": "stdout",
          "text": [
            "<__main__.Node object at 0x7b4ff62ec6d0>\n",
            "<__main__.Node object at 0x7b4ff5e4fe10>\n"
          ]
        }
      ]
    },
    {
      "cell_type": "code",
      "source": [
        "print(node1.next)"
      ],
      "metadata": {
        "id": "PWb0GoSK31E7",
        "colab": {
          "base_uri": "https://localhost:8080/"
        },
        "outputId": "70c18a63-3999-42bc-aa38-5b26a1c7c9e6"
      },
      "execution_count": 7,
      "outputs": [
        {
          "output_type": "stream",
          "name": "stdout",
          "text": [
            "None\n"
          ]
        }
      ]
    },
    {
      "cell_type": "code",
      "source": [
        "node1.setNext(node2)"
      ],
      "metadata": {
        "id": "QyPJaP4tpr4E"
      },
      "execution_count": 8,
      "outputs": []
    },
    {
      "cell_type": "code",
      "source": [
        "print(node1.next)"
      ],
      "metadata": {
        "id": "zI8vgh3YrDAQ",
        "colab": {
          "base_uri": "https://localhost:8080/"
        },
        "outputId": "12790372-8161-4d8d-fe31-b00f90c7201f"
      },
      "execution_count": 9,
      "outputs": [
        {
          "output_type": "stream",
          "name": "stdout",
          "text": [
            "<__main__.Node object at 0x7b4ff5e4fe10>\n"
          ]
        }
      ]
    },
    {
      "cell_type": "code",
      "source": [
        "print(node2)"
      ],
      "metadata": {
        "id": "EEYte-2creEu",
        "colab": {
          "base_uri": "https://localhost:8080/"
        },
        "outputId": "80810c4e-3ab5-45ff-dc61-71ea0367e3b9"
      },
      "execution_count": 10,
      "outputs": [
        {
          "output_type": "stream",
          "name": "stdout",
          "text": [
            "<__main__.Node object at 0x7b4ff5e4fe10>\n"
          ]
        }
      ]
    },
    {
      "cell_type": "code",
      "source": [
        "print(node1.next.data)\n",
        "print(node1.next.next)"
      ],
      "metadata": {
        "id": "cXC03d72rOZj",
        "colab": {
          "base_uri": "https://localhost:8080/"
        },
        "outputId": "7beaf3b2-69f5-4c8e-95fb-88c4b91d50f3"
      },
      "execution_count": 15,
      "outputs": [
        {
          "output_type": "stream",
          "name": "stdout",
          "text": [
            "Tuesday\n",
            "None\n"
          ]
        }
      ]
    },
    {
      "cell_type": "code",
      "source": [
        "class LinkedList():\n",
        "  def __init__(self):\n",
        "    self.head = None\n",
        "\n",
        "  def append(self, NodeToAdd):\n",
        "    if self.head == None:\n",
        "      self.head = NodeToAdd\n",
        "    else:\n",
        "      last_node = self.head   # last_node = node1/Monday\n",
        "      while last_node.next:   # node1.next\n",
        "        last_node = last_node.next\n",
        "      last_node.next = NodeToAdd\n",
        "\n",
        "  def replace(self, oldNodeData, newNodeData):\n",
        "    newNode = Node(newNodeData) # Creating a node object with the newNodeData\n",
        "    if self.head.data == oldNodeData:\n",
        "      newNode.next = self.head.next\n",
        "      self.head = newNode\n",
        "    else:\n",
        "      current_node = self.head\n",
        "      while current_node.next and current_node.next.data is not oldNodeData:\n",
        "        current_node = current_node.next\n",
        "      print(current_node.next.next)\n",
        "      newNode.next = current_node.next.next\n",
        "      current_node.next = newNode\n",
        "\n",
        "  # We're changing Tuesday to Taco Tuesday\n",
        "  ## current_node = Monday\n",
        "  ## print(current_node.next.data) = 'Tuesday' == OldNodeData\n",
        "  ### but above we fail the while loop conditional because OldNodeData does = Tuesday\n",
        "  ### print(current_node.next.next) = 'Wednesday'\n",
        "  #### 'Taco Tuesday'.next = current_node.next.next ('Wednesday')\n",
        "\n",
        "  def print_list(self):\n",
        "    current_node = self.head\n",
        "    while current_node is not None:\n",
        "        print(current_node.data)\n",
        "        current_node = current_node.next\n",
        "\n",
        "\n",
        "\n"
      ],
      "metadata": {
        "id": "ZE-rZeT7r6Q9"
      },
      "execution_count": 16,
      "outputs": []
    },
    {
      "cell_type": "code",
      "source": [
        "class Node:\n",
        "   def __init__(self, initialData):\n",
        "       self.data = initialData\n",
        "       self.next = None\n",
        "\n",
        "   def setData(self, data):\n",
        "       self.data = data\n",
        "\n",
        "   def setNext(self, next_node):\n",
        "       self.next = next_node\n",
        "\n",
        "   def getData(self):\n",
        "       return self.data\n",
        "\n",
        "   def getNext(self):\n",
        "       return self.next\n",
        "\n",
        "class LinkedList:\n",
        "   def __init__(self):\n",
        "       self.head = None\n",
        "\n",
        "   def append(self, NodeToAdd):\n",
        "       if self.head == None:\n",
        "           self.head = NodeToAdd\n",
        "       else:\n",
        "           last_node = self.head\n",
        "           while last_node.getNext():\n",
        "               last_node = last_node.getNext()\n",
        "           last_node.setNext(NodeToAdd)\n",
        "\n",
        "   def replace(self, oldNodeData, newNodeData):\n",
        "       newNode = Node(newNodeData)\n",
        "       if self.head.getData() == oldNodeData:\n",
        "           newNode.setNext(self.head.getNext())\n",
        "           self.head = newNode\n",
        "       else:\n",
        "           current_node = self.head\n",
        "           while current_node.getNext() and current_node.getNext().getData() != oldNodeData:\n",
        "               current_node = current_node.getNext()\n",
        "           newNode.setNext(current_node.getNext().getNext())\n",
        "           current_node.setNext(newNode)\n",
        "\n",
        "   def print_list(self):\n",
        "       current_node = self.head\n",
        "       while current_node is not None:\n",
        "           print(current_node.getData())\n",
        "           current_node = current_node.getNext()\n",
        "\n",
        "   def prepend(self, NodeDataToAdd):\n",
        "    # Create new node with given data\n",
        "    NodeToPrepend = Node(NodeDataToAdd)\n",
        "\n",
        "    # Make new node point to current head\n",
        "    NodeToPrepend.setNext(self.head)\n",
        "    # Update head to be new node\n",
        "    self.head = NodeToPrepend\n"
      ],
      "metadata": {
        "id": "HSWa-z4W5UUp"
      },
      "execution_count": 17,
      "outputs": []
    },
    {
      "cell_type": "code",
      "source": [
        "week = LinkedList()\n",
        "node1 = Node(initialData = \"Monday\")\n",
        "node2 = Node(initialData = \"Tuesday\")\n",
        "\n",
        "week.append(node1)\n",
        "week.append(node2)\n",
        "week.append(Node(\"Wednesday\"))\n",
        "week.print_list()\n"
      ],
      "metadata": {
        "id": "RdtJu9h_MPdV",
        "colab": {
          "base_uri": "https://localhost:8080/"
        },
        "outputId": "b703169c-ffaf-4c67-cd90-e7ebc80282c6"
      },
      "execution_count": 18,
      "outputs": [
        {
          "output_type": "stream",
          "name": "stdout",
          "text": [
            "Monday\n",
            "Tuesday\n",
            "Wednesday\n"
          ]
        }
      ]
    },
    {
      "cell_type": "code",
      "source": [
        "week.replace(\"Monday\", \"McDonalds Monday\")\n",
        "week.print_list()"
      ],
      "metadata": {
        "id": "DkQpELjmZYdD",
        "colab": {
          "base_uri": "https://localhost:8080/"
        },
        "outputId": "e2d37435-376c-44d0-c7b8-8d256f93050d"
      },
      "execution_count": 19,
      "outputs": [
        {
          "output_type": "stream",
          "name": "stdout",
          "text": [
            "McDonalds Monday\n",
            "Tuesday\n",
            "Wednesday\n"
          ]
        }
      ]
    },
    {
      "cell_type": "code",
      "source": [
        "week.replace(\"Tuesday\", \"Taco Tuesday\")\n",
        "week.print_list()"
      ],
      "metadata": {
        "id": "NFsKnTFbYTOX",
        "colab": {
          "base_uri": "https://localhost:8080/"
        },
        "outputId": "a2ec49dd-e6b0-4a22-feee-7aca8e0d533b"
      },
      "execution_count": 20,
      "outputs": [
        {
          "output_type": "stream",
          "name": "stdout",
          "text": [
            "McDonalds Monday\n",
            "Taco Tuesday\n",
            "Wednesday\n"
          ]
        }
      ]
    },
    {
      "cell_type": "markdown",
      "source": [
        "Lets compare efficiency with lists"
      ],
      "metadata": {
        "id": "64-HTCFM6ZIf"
      }
    },
    {
      "cell_type": "code",
      "source": [
        "\n"
      ],
      "metadata": {
        "id": "kjjKhmUA9Svc"
      },
      "execution_count": null,
      "outputs": []
    },
    {
      "cell_type": "code",
      "source": [
        "linked_list = LinkedList()\n",
        "\n",
        "# Measure time for append\n",
        "start_time = time.time()\n",
        "for _ in range(n):\n",
        "    linked_list.append(7)\n",
        "print(\"Appending in linked list done in:\", time.time() - start_time, \"seconds\")\n"
      ],
      "metadata": {
        "id": "adlJtqJj6f0t",
        "colab": {
          "base_uri": "https://localhost:8080/",
          "height": 323
        },
        "outputId": "0d77ded0-c6f6-4a8c-8147-82af8ad4955b"
      },
      "execution_count": 21,
      "outputs": [
        {
          "output_type": "error",
          "ename": "AttributeError",
          "evalue": "'int' object has no attribute 'getNext'",
          "traceback": [
            "\u001b[0;31m---------------------------------------------------------------------------\u001b[0m",
            "\u001b[0;31mAttributeError\u001b[0m                            Traceback (most recent call last)",
            "\u001b[0;32m<ipython-input-21-b9dae3dbc0a5>\u001b[0m in \u001b[0;36m<cell line: 0>\u001b[0;34m()\u001b[0m\n\u001b[1;32m      4\u001b[0m \u001b[0mstart_time\u001b[0m \u001b[0;34m=\u001b[0m \u001b[0mtime\u001b[0m\u001b[0;34m.\u001b[0m\u001b[0mtime\u001b[0m\u001b[0;34m(\u001b[0m\u001b[0;34m)\u001b[0m\u001b[0;34m\u001b[0m\u001b[0;34m\u001b[0m\u001b[0m\n\u001b[1;32m      5\u001b[0m \u001b[0;32mfor\u001b[0m \u001b[0m_\u001b[0m \u001b[0;32min\u001b[0m \u001b[0mrange\u001b[0m\u001b[0;34m(\u001b[0m\u001b[0mn\u001b[0m\u001b[0;34m)\u001b[0m\u001b[0;34m:\u001b[0m\u001b[0;34m\u001b[0m\u001b[0;34m\u001b[0m\u001b[0m\n\u001b[0;32m----> 6\u001b[0;31m     \u001b[0mlinked_list\u001b[0m\u001b[0;34m.\u001b[0m\u001b[0mappend\u001b[0m\u001b[0;34m(\u001b[0m\u001b[0;36m7\u001b[0m\u001b[0;34m)\u001b[0m\u001b[0;34m\u001b[0m\u001b[0;34m\u001b[0m\u001b[0m\n\u001b[0m\u001b[1;32m      7\u001b[0m \u001b[0mprint\u001b[0m\u001b[0;34m(\u001b[0m\u001b[0;34m\"Appending in linked list done in:\"\u001b[0m\u001b[0;34m,\u001b[0m \u001b[0mtime\u001b[0m\u001b[0;34m.\u001b[0m\u001b[0mtime\u001b[0m\u001b[0;34m(\u001b[0m\u001b[0;34m)\u001b[0m \u001b[0;34m-\u001b[0m \u001b[0mstart_time\u001b[0m\u001b[0;34m,\u001b[0m \u001b[0;34m\"seconds\"\u001b[0m\u001b[0;34m)\u001b[0m\u001b[0;34m\u001b[0m\u001b[0;34m\u001b[0m\u001b[0m\n",
            "\u001b[0;32m<ipython-input-17-f5d6e62e3916>\u001b[0m in \u001b[0;36mappend\u001b[0;34m(self, NodeToAdd)\u001b[0m\n\u001b[1;32m     25\u001b[0m        \u001b[0;32melse\u001b[0m\u001b[0;34m:\u001b[0m\u001b[0;34m\u001b[0m\u001b[0;34m\u001b[0m\u001b[0m\n\u001b[1;32m     26\u001b[0m            \u001b[0mlast_node\u001b[0m \u001b[0;34m=\u001b[0m \u001b[0mself\u001b[0m\u001b[0;34m.\u001b[0m\u001b[0mhead\u001b[0m\u001b[0;34m\u001b[0m\u001b[0;34m\u001b[0m\u001b[0m\n\u001b[0;32m---> 27\u001b[0;31m            \u001b[0;32mwhile\u001b[0m \u001b[0mlast_node\u001b[0m\u001b[0;34m.\u001b[0m\u001b[0mgetNext\u001b[0m\u001b[0;34m(\u001b[0m\u001b[0;34m)\u001b[0m\u001b[0;34m:\u001b[0m\u001b[0;34m\u001b[0m\u001b[0;34m\u001b[0m\u001b[0m\n\u001b[0m\u001b[1;32m     28\u001b[0m                \u001b[0mlast_node\u001b[0m \u001b[0;34m=\u001b[0m \u001b[0mlast_node\u001b[0m\u001b[0;34m.\u001b[0m\u001b[0mgetNext\u001b[0m\u001b[0;34m(\u001b[0m\u001b[0;34m)\u001b[0m\u001b[0;34m\u001b[0m\u001b[0;34m\u001b[0m\u001b[0m\n\u001b[1;32m     29\u001b[0m            \u001b[0mlast_node\u001b[0m\u001b[0;34m.\u001b[0m\u001b[0msetNext\u001b[0m\u001b[0;34m(\u001b[0m\u001b[0mNodeToAdd\u001b[0m\u001b[0;34m)\u001b[0m\u001b[0;34m\u001b[0m\u001b[0;34m\u001b[0m\u001b[0m\n",
            "\u001b[0;31mAttributeError\u001b[0m: 'int' object has no attribute 'getNext'"
          ]
        }
      ]
    },
    {
      "cell_type": "markdown",
      "source": [
        "Wait why did that not work? look back up at the way the class is written??"
      ],
      "metadata": {
        "id": "WjBykARt7Lqf"
      }
    },
    {
      "cell_type": "code",
      "source": [
        "linked_list = LinkedList()\n",
        "\n",
        "# Measure time for append. Interrupt if its taking too long\n",
        "start_time = time.time()\n",
        "for _ in range(n):\n",
        "    linked_list.append(Node(7))\n",
        "print(\"Appending in linked list done in:\", time.time() - start_time, \"seconds\")\n"
      ],
      "metadata": {
        "id": "NAopQk5z7KkJ",
        "colab": {
          "base_uri": "https://localhost:8080/",
          "height": 347
        },
        "outputId": "59921176-52c6-4899-9ef9-a1030c42dd37"
      },
      "execution_count": 22,
      "outputs": [
        {
          "output_type": "error",
          "ename": "KeyboardInterrupt",
          "evalue": "",
          "traceback": [
            "\u001b[0;31m---------------------------------------------------------------------------\u001b[0m",
            "\u001b[0;31mKeyboardInterrupt\u001b[0m                         Traceback (most recent call last)",
            "\u001b[0;32m<ipython-input-22-05b936263816>\u001b[0m in \u001b[0;36m<cell line: 0>\u001b[0;34m()\u001b[0m\n\u001b[1;32m      4\u001b[0m \u001b[0mstart_time\u001b[0m \u001b[0;34m=\u001b[0m \u001b[0mtime\u001b[0m\u001b[0;34m.\u001b[0m\u001b[0mtime\u001b[0m\u001b[0;34m(\u001b[0m\u001b[0;34m)\u001b[0m\u001b[0;34m\u001b[0m\u001b[0;34m\u001b[0m\u001b[0m\n\u001b[1;32m      5\u001b[0m \u001b[0;32mfor\u001b[0m \u001b[0m_\u001b[0m \u001b[0;32min\u001b[0m \u001b[0mrange\u001b[0m\u001b[0;34m(\u001b[0m\u001b[0mn\u001b[0m\u001b[0;34m)\u001b[0m\u001b[0;34m:\u001b[0m\u001b[0;34m\u001b[0m\u001b[0;34m\u001b[0m\u001b[0m\n\u001b[0;32m----> 6\u001b[0;31m     \u001b[0mlinked_list\u001b[0m\u001b[0;34m.\u001b[0m\u001b[0mappend\u001b[0m\u001b[0;34m(\u001b[0m\u001b[0mNode\u001b[0m\u001b[0;34m(\u001b[0m\u001b[0;36m7\u001b[0m\u001b[0;34m)\u001b[0m\u001b[0;34m)\u001b[0m\u001b[0;34m\u001b[0m\u001b[0;34m\u001b[0m\u001b[0m\n\u001b[0m\u001b[1;32m      7\u001b[0m \u001b[0mprint\u001b[0m\u001b[0;34m(\u001b[0m\u001b[0;34m\"Appending in linked list done in:\"\u001b[0m\u001b[0;34m,\u001b[0m \u001b[0mtime\u001b[0m\u001b[0;34m.\u001b[0m\u001b[0mtime\u001b[0m\u001b[0;34m(\u001b[0m\u001b[0;34m)\u001b[0m \u001b[0;34m-\u001b[0m \u001b[0mstart_time\u001b[0m\u001b[0;34m,\u001b[0m \u001b[0;34m\"seconds\"\u001b[0m\u001b[0;34m)\u001b[0m\u001b[0;34m\u001b[0m\u001b[0;34m\u001b[0m\u001b[0m\n",
            "\u001b[0;32m<ipython-input-17-f5d6e62e3916>\u001b[0m in \u001b[0;36mappend\u001b[0;34m(self, NodeToAdd)\u001b[0m\n\u001b[1;32m     26\u001b[0m            \u001b[0mlast_node\u001b[0m \u001b[0;34m=\u001b[0m \u001b[0mself\u001b[0m\u001b[0;34m.\u001b[0m\u001b[0mhead\u001b[0m\u001b[0;34m\u001b[0m\u001b[0;34m\u001b[0m\u001b[0m\n\u001b[1;32m     27\u001b[0m            \u001b[0;32mwhile\u001b[0m \u001b[0mlast_node\u001b[0m\u001b[0;34m.\u001b[0m\u001b[0mgetNext\u001b[0m\u001b[0;34m(\u001b[0m\u001b[0;34m)\u001b[0m\u001b[0;34m:\u001b[0m\u001b[0;34m\u001b[0m\u001b[0;34m\u001b[0m\u001b[0m\n\u001b[0;32m---> 28\u001b[0;31m                \u001b[0mlast_node\u001b[0m \u001b[0;34m=\u001b[0m \u001b[0mlast_node\u001b[0m\u001b[0;34m.\u001b[0m\u001b[0mgetNext\u001b[0m\u001b[0;34m(\u001b[0m\u001b[0;34m)\u001b[0m\u001b[0;34m\u001b[0m\u001b[0;34m\u001b[0m\u001b[0m\n\u001b[0m\u001b[1;32m     29\u001b[0m            \u001b[0mlast_node\u001b[0m\u001b[0;34m.\u001b[0m\u001b[0msetNext\u001b[0m\u001b[0;34m(\u001b[0m\u001b[0mNodeToAdd\u001b[0m\u001b[0;34m)\u001b[0m\u001b[0;34m\u001b[0m\u001b[0;34m\u001b[0m\u001b[0m\n\u001b[1;32m     30\u001b[0m \u001b[0;34m\u001b[0m\u001b[0m\n",
            "\u001b[0;32m<ipython-input-17-f5d6e62e3916>\u001b[0m in \u001b[0;36mgetNext\u001b[0;34m(self)\u001b[0m\n\u001b[1;32m     13\u001b[0m        \u001b[0;32mreturn\u001b[0m \u001b[0mself\u001b[0m\u001b[0;34m.\u001b[0m\u001b[0mdata\u001b[0m\u001b[0;34m\u001b[0m\u001b[0;34m\u001b[0m\u001b[0m\n\u001b[1;32m     14\u001b[0m \u001b[0;34m\u001b[0m\u001b[0m\n\u001b[0;32m---> 15\u001b[0;31m    \u001b[0;32mdef\u001b[0m \u001b[0mgetNext\u001b[0m\u001b[0;34m(\u001b[0m\u001b[0mself\u001b[0m\u001b[0;34m)\u001b[0m\u001b[0;34m:\u001b[0m\u001b[0;34m\u001b[0m\u001b[0;34m\u001b[0m\u001b[0m\n\u001b[0m\u001b[1;32m     16\u001b[0m        \u001b[0;32mreturn\u001b[0m \u001b[0mself\u001b[0m\u001b[0;34m.\u001b[0m\u001b[0mnext\u001b[0m\u001b[0;34m\u001b[0m\u001b[0;34m\u001b[0m\u001b[0m\n\u001b[1;32m     17\u001b[0m \u001b[0;34m\u001b[0m\u001b[0m\n",
            "\u001b[0;31mKeyboardInterrupt\u001b[0m: "
          ]
        }
      ]
    },
    {
      "cell_type": "markdown",
      "source": [
        "Why isn't this working efficiently? i thought the whole point of linked list was that i was fast!\n",
        "\n",
        "Lets edit our append to not need traversal. and lets add a a prepend method\n",
        "\n",
        "\n",
        "1.   Create new node with given data\n",
        "2.   Make new node point to current head\n",
        "3.   Update head to be new node"
      ],
      "metadata": {
        "id": "MJV_TZA0-cN-"
      }
    },
    {
      "cell_type": "code",
      "source": [
        "# Measure time for prepend\n",
        "linked_list = LinkedList()\n",
        "start_time = time.time()\n",
        "for _ in range(n):\n",
        "    linked_list.prepend(Node(7))\n",
        "print(\"Prepending in linked list done in:\", time.time() - start_time, \"seconds\")\n",
        "\n",
        "print(\"\\nLinked lists allow O(1) insertions at the start, unlike Python lists which require shifting elements.\")\n"
      ],
      "metadata": {
        "id": "vdtV8ELn7Vt-"
      },
      "execution_count": null,
      "outputs": []
    },
    {
      "cell_type": "code",
      "source": [
        "linked_list = LinkedList()\n",
        "\n",
        "# Measure time for append. Interrupt if its taking too long\n",
        "start_time = time.time()\n",
        "for _ in range(n):\n",
        "    linked_list.append(Node(7))\n",
        "print(\"Appending in linked list done in:\", time.time() - start_time, \"seconds\")\n"
      ],
      "metadata": {
        "id": "IIyLKjKH-hcW"
      },
      "execution_count": null,
      "outputs": []
    }
  ]
}