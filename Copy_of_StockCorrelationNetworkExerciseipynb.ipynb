{
  "nbformat": 4,
  "nbformat_minor": 0,
  "metadata": {
    "colab": {
      "provenance": []
    },
    "kernelspec": {
      "name": "python3",
      "display_name": "Python 3"
    },
    "language_info": {
      "name": "python"
    }
  },
  "cells": [
    {
      "cell_type": "code",
      "execution_count": null,
      "metadata": {
        "id": "6G9vT_CeOO4N"
      },
      "outputs": [],
      "source": [
        "import requests\n",
        "import zipfile\n",
        "import io\n",
        "data_zip = 'https://github.com/umsi-amadaman/stocks/raw/main/sp500_5year_archive.zip'\n",
        "\n",
        "response = requests.get(data_zip)\n",
        "\n",
        "if response.status_code == 200:\n",
        "    with zipfile.ZipFile(io.BytesIO(response.content)) as zip_ref:\n",
        "        zip_ref.extractall('/content/sp500_5year_archive/')"
      ]
    },
    {
      "cell_type": "code",
      "source": [
        "### if you know pandas going from here is super easy... if you don't...\n",
        "\n",
        "import csv\n",
        "\n",
        "csv_file_path = '/content/sp500_5year_archive/sp500_stocks_last5.csv'  # the path to your CSV file\n",
        "\n",
        "\n",
        "csv_data = []\n",
        "with open(csv_file_path, 'r', newline='') as file:\n",
        "    csv_reader = csv.reader(file)  # Create a CSV reader object\n",
        "\n",
        "    for row in csv_reader:  # Read each row of the CSV file\n",
        "        #print(row)  # Process each row as needed\n",
        "        csv_data.append(row)\n"
      ],
      "metadata": {
        "id": "5CRwi-q0OUcD"
      },
      "execution_count": null,
      "outputs": []
    },
    {
      "cell_type": "code",
      "source": [
        "csv_data[0]"
      ],
      "metadata": {
        "id": "ln3Zo5eTRxkE",
        "colab": {
          "base_uri": "https://localhost:8080/"
        },
        "outputId": "bf7cf6b0-c236-4857-dde9-24671283f7e0"
      },
      "execution_count": null,
      "outputs": [
        {
          "output_type": "execute_result",
          "data": {
            "text/plain": [
              "['Date', 'Symbol', 'Adj Close', 'Close', 'High', 'Low', 'Open', 'Volume']"
            ]
          },
          "metadata": {},
          "execution_count": 3
        }
      ]
    },
    {
      "cell_type": "code",
      "source": [
        "csv_data[1]"
      ],
      "metadata": {
        "id": "Oxp54GLcSAqR",
        "colab": {
          "base_uri": "https://localhost:8080/"
        },
        "outputId": "c5ad272e-8861-4cd0-f93c-681a3bb41f83"
      },
      "execution_count": null,
      "outputs": [
        {
          "output_type": "execute_result",
          "data": {
            "text/plain": [
              "['2019-01-02',\n",
              " 'MMM',\n",
              " '153.6024169921875',\n",
              " '190.9499969482422',\n",
              " '190.99000549316406',\n",
              " '186.6999969482422',\n",
              " '187.82000732421875',\n",
              " '2475200']"
            ]
          },
          "metadata": {},
          "execution_count": 4
        }
      ]
    },
    {
      "cell_type": "code",
      "source": [
        "csv_data_minimal = [[x[0], x[1], x[2]]      for x in csv_data]"
      ],
      "metadata": {
        "id": "5EVvWN3rSblR"
      },
      "execution_count": null,
      "outputs": []
    },
    {
      "cell_type": "code",
      "source": [
        "csv_data_minimal[:5]"
      ],
      "metadata": {
        "id": "_0eJu0mwS3Pv",
        "colab": {
          "base_uri": "https://localhost:8080/"
        },
        "outputId": "aada1a19-f385-4b11-8044-9ec199a8fa33"
      },
      "execution_count": null,
      "outputs": [
        {
          "output_type": "execute_result",
          "data": {
            "text/plain": [
              "[['Date', 'Symbol', 'Adj Close'],\n",
              " ['2019-01-02', 'MMM', '153.6024169921875'],\n",
              " ['2019-01-03', 'MMM', '147.81869506835938'],\n",
              " ['2019-01-04', 'MMM', '153.9000701904297'],\n",
              " ['2019-01-07', 'MMM', '153.54615783691406']]"
            ]
          },
          "metadata": {},
          "execution_count": 6
        }
      ]
    },
    {
      "cell_type": "markdown",
      "source": [
        "### General Approaches for Creating Edges in Networks\n",
        "\n",
        "| Relationship Type         | Metric/Method                        | Description / Use Cases                                                  |\n",
        "|---------------------------|--------------------------------------|--------------------------------------------------------------------------|\n",
        "| **Similarity**            | Correlation, Cosine similarity       | Similar attributes, behaviors, or profiles (e.g., users, documents)      |\n",
        "|                           | Mutual information, Distance correlation | Detects shared patterns, even nonlinear ones                            |\n",
        "|                           | Jaccard similarity                   | For sets — overlap of attributes or neighbors                            |\n",
        "|                           | Structural similarity (e.g., SimRank) | Nodes are similar if they're linked to similar others                    |\n",
        "| **Co-occurrence**         | Raw count, PMI, TF-IDF-weighted      | Nodes appearing together in time, space, or documents                    |\n",
        "|                           | Binarized co-presence                | Did A and B co-occur at all?                                             |\n",
        "| **Distance / Proximity**  | Euclidean, geodesic, spatial metrics | Physical, semantic, or embedding-space distance                          |\n",
        "|                           | DTW, Levenshtein                     | For time series or strings                                               |\n",
        "| **Causality / Influence** | Granger causality, Transfer entropy  | Does one entity predict or influence another?                            |\n",
        "|                           | Causal graphs / DAGs                 | From interventions or time series                                        |\n",
        "| **Flow / Movement**       | Traffic, migration, citations        | Directed edges based on flow quantity or frequency                       |\n",
        "|                           | Money, goods, information            | Supply chains, neural activity, communication networks                   |\n",
        "| **Interaction / Behavior**| Shared activity, transactions        | Users buying the same item, replying to the same tweet                   |\n",
        "|                           | Communication frequency              | Messaging, emails, chats                                                 |\n",
        "| **Structural / Social**   | Shared group membership              | Organizations, clubs, classes                                            |\n",
        "|                           | Common neighbors, triadic closure    | Used in link prediction or friendship inference                          |\n",
        "| **Probabilistic / Model-based** | Graphical models, Bayesian networks | Learn edges from statistical dependencies                               |\n",
        "|                           | Network inference                    | From observed node states (e.g. Ising models, GLMs)                      |\n",
        "| **Semantic / Conceptual** | Ontology links, knowledge graphs     | Edges encode logical or hierarchical relationships                       |\n"
      ],
      "metadata": {
        "id": "UL0E876HKSkK"
      }
    },
    {
      "cell_type": "code",
      "source": [
        "data_wide = {}\n",
        "\n",
        "for date, stock, price in csv_data_minimal:\n",
        "  if date not in data_wide:\n",
        "    data_wide[date] = {}\n",
        "  data_wide[date][stock] = price\n",
        "\n",
        "\n"
      ],
      "metadata": {
        "id": "uekAzHpZTRvo"
      },
      "execution_count": null,
      "outputs": []
    },
    {
      "cell_type": "code",
      "source": [
        "import pandas as pd\n",
        "\n",
        "df_long = pd.DataFrame(csv_data_minimal[1:], columns=['Date', 'Symbol', 'Price'])"
      ],
      "metadata": {
        "id": "GQOXDlwGUiTn"
      },
      "execution_count": null,
      "outputs": []
    },
    {
      "cell_type": "code",
      "source": [
        "df_long.head()"
      ],
      "metadata": {
        "id": "6sLJebAsVMGP"
      },
      "execution_count": null,
      "outputs": []
    },
    {
      "cell_type": "code",
      "source": [
        "df_wide = df_long.pivot(index='Date', columns = 'Symbol', values = 'Price')"
      ],
      "metadata": {
        "id": "7V4T4mMRVbkl"
      },
      "execution_count": null,
      "outputs": []
    },
    {
      "cell_type": "code",
      "source": [
        "df_wide.head()"
      ],
      "metadata": {
        "id": "Fr-xQb-vVtx9"
      },
      "execution_count": null,
      "outputs": []
    },
    {
      "cell_type": "code",
      "source": [
        "df_wide.corr()"
      ],
      "metadata": {
        "id": "ZPUFMttqXENV"
      },
      "execution_count": null,
      "outputs": []
    },
    {
      "cell_type": "code",
      "source": [
        "df_wide.iloc[:,:] = df_wide.iloc[:,:].apply(pd.to_numeric, errors='coerce')"
      ],
      "metadata": {
        "id": "mdjql3bvXdrl"
      },
      "execution_count": null,
      "outputs": []
    },
    {
      "cell_type": "code",
      "source": [
        "corr_matrix = df_wide.corr()\n",
        "\n",
        "corr_matrix.head()"
      ],
      "metadata": {
        "id": "vOzTh-WXYK0F"
      },
      "execution_count": null,
      "outputs": []
    },
    {
      "cell_type": "code",
      "source": [
        "[origin for origin in corr_matrix.index][:3]"
      ],
      "metadata": {
        "id": "jjafBNBJapM8"
      },
      "execution_count": null,
      "outputs": []
    },
    {
      "cell_type": "code",
      "source": [
        "[dest for dest in corr_matrix.columns][:3]"
      ],
      "metadata": {
        "id": "Y41dfcpka-9t"
      },
      "execution_count": null,
      "outputs": []
    },
    {
      "cell_type": "code",
      "source": [
        "corr_matrix.loc['A', 'A']"
      ],
      "metadata": {
        "id": "ML0uHYQ_bDQJ"
      },
      "execution_count": null,
      "outputs": []
    },
    {
      "cell_type": "code",
      "source": [
        "threshold = 0.7\n",
        "[ (origin, destination,  corr_matrix.loc[origin, destination])\n",
        "    for origin in corr_matrix.index for destination in corr_matrix.columns if\n",
        "          origin != destination and abs(corr_matrix.loc[origin, destination]  > threshold)]"
      ],
      "metadata": {
        "id": "XCouruL7aGuz"
      },
      "execution_count": null,
      "outputs": []
    },
    {
      "cell_type": "code",
      "source": [
        "import networkx as nx\n",
        "\n",
        "threshold = 0.7\n",
        "edges = [ (origin, destination,  corr_matrix.loc[origin, destination])\n",
        "    for origin in corr_matrix.index for destination in corr_matrix.columns if\n",
        "          origin != destination and abs(corr_matrix.loc[origin, destination]  > threshold)]\n",
        "\n",
        "\n",
        "G = nx.Graph()\n",
        "\n",
        "G.add_weighted_edges_from(edges)\n"
      ],
      "metadata": {
        "id": "ZEWTwWatYbf5"
      },
      "execution_count": null,
      "outputs": []
    },
    {
      "cell_type": "code",
      "source": [
        "import matplotlib.pyplot as plt\n",
        "\n",
        "plt.figure(figsize=(10, 10))\n",
        "pos = nx.spring_layout(G, seed=42)\n",
        "nx.draw_networkx(G, pos, with_labels=True, node_size=500, node_color='skyblue', font_size=10, font_color='black')\n",
        "plt.show()"
      ],
      "metadata": {
        "id": "Q9NaxomKcBXr"
      },
      "execution_count": null,
      "outputs": []
    },
    {
      "cell_type": "code",
      "source": [
        "threshold = -0.7\n",
        "edgesN = [ (origin, destination,  corr_matrix.loc[origin, destination])\n",
        "    for origin in corr_matrix.index for destination in corr_matrix.columns if\n",
        "          origin != destination and corr_matrix.loc[origin, destination]  < threshold]\n",
        "\n",
        "\n",
        "Gneg = nx.Graph()\n",
        "\n",
        "Gneg.add_weighted_edges_from(edgesN)"
      ],
      "metadata": {
        "id": "J-kRXcSOcbXK"
      },
      "execution_count": null,
      "outputs": []
    },
    {
      "cell_type": "code",
      "source": [
        "plt.figure(figsize=(10, 10))\n",
        "negative = nx.spring_layout(Gneg, seed=42)\n",
        "nx.draw_networkx(Gneg, negative, with_labels=True, node_size=500, node_color='skyblue', font_size=10, font_color='black')\n",
        "plt.show()"
      ],
      "metadata": {
        "id": "gmlKdWGCctOD"
      },
      "execution_count": null,
      "outputs": []
    },
    {
      "cell_type": "code",
      "source": [
        "import matplotlib.cm as cm\n",
        "import matplotlib.colors as mcolors\n",
        "\n",
        "\n",
        "threshold = 0.8\n",
        "\n",
        "pos_edges = [\n",
        "    (i, j, corr_matrix.loc[i, j])\n",
        "    for i in corr_matrix.index\n",
        "    for j in corr_matrix.columns\n",
        "    if i != j and corr_matrix.loc[i, j] > threshold\n",
        "]\n",
        "\n",
        "neg_edges = [\n",
        "    (i, j, corr_matrix.loc[i, j])\n",
        "    for i in corr_matrix.index\n",
        "    for j in corr_matrix.columns\n",
        "    if i != j and corr_matrix.loc[i, j] < -threshold\n",
        "]\n",
        "\n",
        "G_pos = nx.Graph() #positive graph\n",
        "G_pos.add_weighted_edges_from(pos_edges)\n",
        "\n",
        "G_neg = nx.Graph() # negative graph\n",
        "G_neg.add_weighted_edges_from(neg_edges)\n",
        "\n",
        "pos_layout = nx.circular_layout(G_pos) ## circular layout to space out nodes\n",
        "neg_layout = nx.circular_layout(G_neg)\n",
        "\n",
        "pos_cmap = cm.Blues # color by correlation direction\n",
        "neg_cmap = cm.Reds\n",
        "\n",
        "def get_edge_colors(graph, cmap):\n",
        "    weights = [abs(weight) for _, _, weight in graph.edges(data=\"weight\")]\n",
        "    norm = mcolors.Normalize(vmin=min(weights), vmax=max(weights))\n",
        "    return [cmap(norm(weight)) for weight in weights]\n",
        "\n",
        "\n",
        "# Plot negative correlations\n",
        "plt.figure(figsize=(10, 10))\n",
        "nx.draw_networkx_nodes(G_neg, neg_layout, node_size=500, node_color=\"lightcoral\")\n",
        "nx.draw_networkx_labels(G_neg, neg_layout, font_size=10, font_color=\"black\")\n",
        "nx.draw_networkx_edges(G_neg, neg_layout, edge_color=get_edge_colors(G_neg, neg_cmap), width=1.5)\n",
        "plt.title(\"Negative Correlation Network\")\n",
        "plt.show()\n"
      ],
      "metadata": {
        "id": "0JTyQ8pIdgQX"
      },
      "execution_count": null,
      "outputs": []
    },
    {
      "cell_type": "code",
      "source": [
        "\n",
        "# Plot positive correlations\n",
        "plt.figure(figsize=(10, 10))\n",
        "nx.draw_networkx_nodes(G_pos, pos_layout, node_size=500, node_color=\"skyblue\")\n",
        "nx.draw_networkx_labels(G_pos, pos_layout, font_size=10, font_color=\"black\")\n",
        "nx.draw_networkx_edges(G_pos, pos_layout, edge_color=get_edge_colors(G_pos, pos_cmap), width=1.5)\n",
        "plt.title(\"Positive Correlation Network\")\n",
        "plt.show()\n"
      ],
      "metadata": {
        "id": "_QfmjudveCIl"
      },
      "execution_count": null,
      "outputs": []
    },
    {
      "cell_type": "code",
      "source": [
        "import matplotlib.cm as cm\n",
        "import matplotlib.colors as mcolors\n",
        "\n",
        "\n",
        "threshold = 0.8\n",
        "\n",
        "pos_edges = [\n",
        "    (i, j, corr_matrix.loc[i, j])\n",
        "    for i in corr_matrix.index\n",
        "    for j in corr_matrix.columns\n",
        "    if i != j and corr_matrix.loc[i, j] > threshold\n",
        "]\n",
        "\n",
        "neg_edges = [\n",
        "    (i, j, corr_matrix.loc[i, j])\n",
        "    for i in corr_matrix.index\n",
        "    for j in corr_matrix.columns\n",
        "    if i != j and corr_matrix.loc[i, j] < -threshold\n",
        "]\n",
        "\n",
        "G_pos = nx.Graph() #positive graph\n",
        "G_pos.add_weighted_edges_from(pos_edges)\n",
        "\n",
        "G_neg = nx.Graph() # negative graph\n",
        "G_neg.add_weighted_edges_from(neg_edges)\n",
        "\n",
        "pos_layout = nx.spring_layout(G_pos) ## circular layout to space out nodes\n",
        "neg_layout = nx.spring_layout(G_neg)\n",
        "\n",
        "pos_cmap = cm.Blues # color by correlation direction\n",
        "neg_cmap = cm.Reds\n",
        "\n",
        "def get_edge_colors(graph, cmap):\n",
        "    weights = [abs(weight) for _, _, weight in graph.edges(data=\"weight\")]\n",
        "    norm = mcolors.Normalize(vmin=min(weights), vmax=max(weights))\n",
        "    return [cmap(norm(weight)) for weight in weights]\n",
        "\n",
        "\n",
        "# Plot negative correlations\n",
        "plt.figure(figsize=(10, 10))\n",
        "nx.draw_networkx_nodes(G_neg, neg_layout, node_size=500, node_color=\"lightcoral\")\n",
        "nx.draw_networkx_labels(G_neg, neg_layout, font_size=10, font_color=\"black\")\n",
        "nx.draw_networkx_edges(G_neg, neg_layout, edge_color=get_edge_colors(G_neg, neg_cmap), width=1.5)\n",
        "plt.title(\"Negative Correlation Network\")\n",
        "plt.show()\n"
      ],
      "metadata": {
        "id": "3tiFAV3KeeK0"
      },
      "execution_count": null,
      "outputs": []
    },
    {
      "cell_type": "code",
      "source": [],
      "metadata": {
        "id": "8j9hcHP9KNvM"
      },
      "execution_count": null,
      "outputs": []
    },
    {
      "cell_type": "code",
      "source": [],
      "metadata": {
        "id": "Obbs8_w2KOhL"
      },
      "execution_count": null,
      "outputs": []
    },
    {
      "cell_type": "markdown",
      "source": [
        "### Alternative Metrics for Edges\n",
        "\n",
        "| Category                   | Metric/Method                        | Description                                                                 |\n",
        "|---------------------------|--------------------------------------|-----------------------------------------------------------------------------|\n",
        "| Linear & Nonlinear        | Correlation / Partial Correlation    | Measures linear association; partial removes influence of other variables  |\n",
        "|                           | Mutual Information                   | Captures any dependency, including nonlinear relationships                 |\n",
        "|                           | Distance Correlation                 | Detects both linear and nonlinear dependence                               |\n",
        "| Temporal Relationships    | Granger Causality                    | Tests whether one time series predicts another; produces directed edges    |\n",
        "|                           | Transfer Entropy                     | Nonlinear, model-free info transfer between time series                    |\n",
        "| Price Behavior Similarity | Euclidean / DTW Distance             | Compares time series directly or via shape alignment (DTW = Dynamic Time Warping) |\n",
        "|                           | Cosine Similarity                    | Measures angle between return vectors (directional similarity)             |\n",
        "|                           | PCA-Based Similarity                 | Stocks with similar loadings on principal components                       |\n",
        "| Model-Based               | Regression Coefficients (e.g. LASSO) | Edges based on non-zero coefficients in multivariate models                |\n",
        "|                           | Graphical Lasso                      | Sparse precision matrix; partial correlations with regularization          |\n",
        "| Structural/Fundamental    | Sector Co-membership                 | Binary edges based on shared industry/sector                               |\n",
        "|                           | Supply Chain Links                   | Edges based on supplier-customer relationships                             |\n",
        "|                           | News Co-mentions                     | Connect stocks appearing together in financial news                        |\n",
        "|                           | Social Media Co-movement             | Based on sentiment or co-occurrence on platforms like Twitter              |\n",
        "|                           | Shared Ownership / Boards            | Links based on common institutional investors or board members             |\n"
      ],
      "metadata": {
        "id": "x57Rfqq4KUfO"
      }
    }
  ]
}