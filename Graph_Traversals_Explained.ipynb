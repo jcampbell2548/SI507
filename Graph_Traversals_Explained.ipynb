{
 "cells": [
  {
   "cell_type": "markdown",
   "id": "b279c509-3173-420a-afc3-a3b6a4753973",
   "metadata": {},
   "source": [
    "# Graph Traversal - Depth First Search(DFS)"
   ]
  },
  {
   "cell_type": "markdown",
   "id": "875c4ad9-4f91-4612-9fd2-f246ae07dfbf",
   "metadata": {},
   "source": [
    "Graphs are made up of nodes (vertices) connected by edges. Traversing a graph means visiting all its nodes in a structured way. This helps solve problems like finding paths, detecting cycles, and searching for specific values.\n",
    "\n",
    "Two widely used traversal techniques are:\n",
    "\n",
    "1. **Depth-First Search (DFS):** Explores as far as possible along each branch before backtracking.\n",
    "2. **Breadth-First Search (BFS):** Explores all neighbors of a node before moving deeper.\n"
   ]
  },
  {
   "cell_type": "markdown",
   "id": "dd918ff3-a9c8-4661-abaa-ec1cd95e96a1",
   "metadata": {},
   "source": [
    "# Depth First Search(DFS) Using a Stack Data Structure\n",
    "\n",
    "Depth-First Search (DFS) is a graph traversal algorithm that explores all the nodes in a graph by systematically visiting as far as possible along each branch before backtracking. It operates on both directed and undirected graphs and can be implemented using recursion or an explicit stack data structure.\n",
    "\n",
    "DFS starts from a selected source node (or a starting point) and explores as deeply as possible along each branch before backtracking. The algorithm visits nodes in a depth ward motion until it reaches a leaf node with no unexplored neighbors. At that point, it backtracks and explores other unexplored branches.\n",
    "\n",
    "Step-by-Step Algorithm\n",
    "\n",
    "1. Initialize the Data Structures:\n",
    "\n",
    " - Create a visited array to track whether a node has been visited.\n",
    " - Initialize an empty stack and push the starting node onto it.\n",
    "\n",
    "2. Traversal Loop:\n",
    "\n",
    " - While the stack is not empty:\n",
    "    - Pop the top node from the stack and mark it as visited.\n",
    "    - Process the node (e.g., print it).\n",
    "    - Traverse through all neighbours of the node and push unvisited neighbours onto the stack. This step ensures that we explore the graph as deeply as possible.\n",
    "\n",
    "3. End Condition:\n",
    "\n",
    " - The traversal ends when the stack becomes empty, indicating all reachable nodes have been visited."
   ]
  },
  {
   "cell_type": "code",
   "execution_count": 2,
   "id": "a3a5ac24-7185-4d03-bf8f-7a1991f6597b",
   "metadata": {
    "tags": []
   },
   "outputs": [
    {
     "name": "stdout",
     "output_type": "stream",
     "text": [
      "DFS Traversal starting from vertex 0: 0 3 2 4 1 "
     ]
    }
   ],
   "source": [
    "class Graph:\n",
    "    def __init__(self, vertices):\n",
    "        self.vertices = vertices  # Number of vertices\n",
    "        self.adjacencyList = [[] for _ in range(vertices)]  # Adjacency list\n",
    "\n",
    "    # Method to add an edge to the graph\n",
    "    def addEdge(self, source, destination):\n",
    "        self.adjacencyList[source].append(destination)\n",
    "        self.adjacencyList[destination].append(source)  # For an undirected graph\n",
    "\n",
    "    # Method to perform DFS using a stack\n",
    "    def DFS(self, startVertex):\n",
    "        visited = [False] * self.vertices  # Track visited nodes\n",
    "        stack = []  # Stack for traversal\n",
    "\n",
    "        stack.append(startVertex)  # Start with the given vertex\n",
    "\n",
    "        while stack:\n",
    "            current = stack.pop()  # Pop a vertex from the stack\n",
    "\n",
    "            if not visited[current]:\n",
    "                print(current, end=\" \")  # Process the current node\n",
    "                visited[current] = True  # Mark it as visited\n",
    "\n",
    "            # Push all unvisited neighbors onto the stack\n",
    "            for neighbor in self.adjacencyList[current]:\n",
    "                if not visited[neighbor]:\n",
    "                    stack.append(neighbor)\n",
    "\n",
    "\n",
    "class Solution:\n",
    "    @staticmethod\n",
    "    def main():\n",
    "        g = Graph(5)\n",
    "\n",
    "        g.addEdge(0, 1)\n",
    "        g.addEdge(0, 2)\n",
    "        g.addEdge(0, 3)\n",
    "        g.addEdge(1, 2)\n",
    "        g.addEdge(2, 4)\n",
    "\n",
    "        print(\"DFS Traversal starting from vertex 0: \", end=\"\")\n",
    "        g.DFS(0)\n",
    "\n",
    "\n",
    "Solution.main()\n"
   ]
  },
  {
   "cell_type": "markdown",
   "id": "825531af-79ff-4bf5-8012-611cabdafa88",
   "metadata": {},
   "source": [
    "# Depth First Search(DFS) Using a Recursive Approach\n",
    "\n",
    "In the recursive approach, the function calls itself to traverse adjacent nodes, mimicking the natural depth-first behavior of the algorithm. This approach leverages the function call stack to manage backtracking, simplifying the implementation.\n",
    "\n",
    "In recursive DFS, each node is visited once, and its unvisited neighbors are recursively explored. The recursion ends when all reachable nodes have been visited. A visited array is used to ensure nodes are not revisited, preventing infinite loops in cyclic graphs.\n",
    "\n",
    "## Step-by-Step Algorithm\n",
    "\n",
    "1. Graph Initialization:\n",
    "\n",
    " - Represent the graph using an adjacency list for efficient storage and neighbor lookup.\n",
    "\n",
    "2. Setup for DFS:\n",
    " - Create a visited array of size equal to the number of vertices, initialized to false.\n",
    "\n",
    "3. Start Recursive Traversal:\n",
    "\n",
    " - Call the recursive DFS function, passing the starting vertex and the visited array.\n",
    "\n",
    "4. Recursive Traversal:\n",
    "\n",
    " - Mark the current vertex as visited and process it (e.g., print its value).\n",
    " - Recur for each unvisited neighbor of the current vertex by calling the DFS function for that neighbor.\n",
    "\n",
    "5. Backtracking:\n",
    "\n",
    " - If there are no more unvisited neighbors for the current node, backtrack by returning from the recursive function.\n",
    "\n",
    "6. Termination:\n",
    "\n",
    " - The DFS algorithm terminates when all nodes reachable from the source node have been visited. This means that all connected components of the graph have been explored.\n"
   ]
  },
  {
   "cell_type": "code",
   "execution_count": 1,
   "id": "9a5ef5bc-d562-4d0b-b875-0481cd66fb05",
   "metadata": {
    "tags": []
   },
   "outputs": [
    {
     "name": "stdout",
     "output_type": "stream",
     "text": [
      "DFS Traversal starting from vertex 0: DFS Traversal: 0 3 2 1 4 "
     ]
    }
   ],
   "source": [
    "class Graph:\n",
    "    def __init__(self, vertices):\n",
    "        self.vertices = vertices  # Number of vertices\n",
    "        self.adjacencyList = [[] for _ in range(vertices)]  # Adjacency list\n",
    "\n",
    "    # Method to add an edge to the graph\n",
    "    def addEdge(self, source, destination):\n",
    "        self.adjacencyList[source].append(destination)\n",
    "        self.adjacencyList[destination].append(source)  # For an undirected graph\n",
    "\n",
    "    # Method to perform DFS using recursion\n",
    "    def DFS(self, startVertex):\n",
    "        visited = [False] * self.vertices  # Track visited nodes\n",
    "        print(\"DFS Traversal: \", end=\"\")\n",
    "        self.DFSRecursive(startVertex, visited)  # Start DFS from the given vertex\n",
    "\n",
    "    def DFSRecursive(self, currentVertex, visited):\n",
    "        visited[currentVertex] = True  # Mark the current node as visited\n",
    "        print(currentVertex, end=\" \")  # Process the current node\n",
    "\n",
    "        # Recur for all unvisited neighbors\n",
    "        for neighbor in self.adjacencyList[currentVertex]:\n",
    "            if not visited[neighbor]:\n",
    "                self.DFSRecursive(neighbor, visited)\n",
    "\n",
    "\n",
    "class Solution:\n",
    "    @staticmethod\n",
    "    def main():\n",
    "        g = Graph(5)\n",
    "\n",
    "        g.addEdge(0, 3)\n",
    "        g.addEdge(0, 2)\n",
    "        g.addEdge(0, 1)\n",
    "        g.addEdge(1, 2)\n",
    "        g.addEdge(2, 4)\n",
    "\n",
    "        print(\"DFS Traversal starting from vertex 0: \", end=\"\")\n",
    "        g.DFS(0)\n",
    "\n",
    "\n",
    "Solution.main()\n"
   ]
  },
  {
   "cell_type": "markdown",
   "id": "6e535a7c-0cb1-44ee-b52a-4977e3b25a38",
   "metadata": {},
   "source": [
    "DFS can be used for various applications, such as finding connected components, detecting cycles in the graph, topological sorting, and solving problems like maze exploration or finding paths between nodes.\n",
    "\n",
    "It's essential to be cautious about infinite loops when traversing graphs that may have cycles. To avoid this, the algorithm must keep track of visited nodes and avoid revisiting nodes that have already been explored.\n",
    "\n",
    "Overall, DFS is a powerful graph traversal algorithm that can efficiently explore the entire graph and is widely used in many graph-related problems."
   ]
  },
  {
   "cell_type": "markdown",
   "id": "f81c9b4a-5132-4997-872d-e2a13af31902",
   "metadata": {},
   "source": [
    "# Graph Traversal - Breadth First Search (BFS)\n",
    "\n",
    "Breadth-First Search (BFS) is a graph traversal algorithm that explores a graph's vertices (nodes) level by level. It starts from a selected source node and moves outward to visit all the nodes at the same distance from the source before moving on to nodes at the following distance level.\n",
    "\n",
    "BFS is particularly useful for finding the shortest path in unweighted graphs and for systematically exploring graphs."
   ]
  },
  {
   "cell_type": "markdown",
   "id": "9730a47c-51d3-4596-b18c-b3d03d2d1758",
   "metadata": {},
   "source": [
    "# Step-by-Step Algorithm for BFS\n",
    "\n",
    "1.  Graph Initialization:\n",
    " - Create a graph with V vertices.\n",
    " - Represent the graph using an adjacency list, where each vertex has a list of its adjacent vertices.\n",
    "\n",
    "2. Mark All Vertices as Unvisited:\n",
    " - Initialize a visited boolean array of size V, with all elements set to false.\n",
    "\n",
    "3. Initialize BFS Traversal:\n",
    "\n",
    " - Start from the given startVertex.\n",
    " - Mark startVertex as visited by setting visited[startVertex] = true.\n",
    " - Add startVertex to the queue.\n",
    "\n",
    "4. Perform BFS Traversal:\n",
    "\n",
    " - While the queue is not empty:\n",
    "    1. Dequeue a vertex (currentVertex) from the front of the queue.\n",
    "    2. Process the currentVertex (e.g., print its value).\n",
    "    3. For each neighbor of currentVertex (from its adjacency list):\n",
    "        - If the neighbor is unvisited:\n",
    "        - Mark it as visited.\n",
    "        - Enqueue the neighbor into the queue.\n",
    "\n",
    "5. End Condition:\n",
    "\n",
    " - The traversal ends when the queue becomes empty, meaning all reachable vertices from the startVertex have been visited."
   ]
  },
  {
   "cell_type": "code",
   "execution_count": 3,
   "id": "dd5541bb-8306-4617-bb28-0dae7fc545d5",
   "metadata": {
    "tags": []
   },
   "outputs": [
    {
     "name": "stdout",
     "output_type": "stream",
     "text": [
      "Breadth-First Traversal starting from vertex 0:\n",
      "0 1 2 3 4 "
     ]
    }
   ],
   "source": [
    "from collections import defaultdict, deque\n",
    "\n",
    "class Graph:\n",
    "    def __init__(self, vertices):\n",
    "        self.V = vertices\n",
    "        self.adjList = defaultdict(list)\n",
    "\n",
    "    def addEdge(self, u, v):\n",
    "        self.adjList[u].append(v)\n",
    "        self.adjList[v].append(u)  # For undirected graph\n",
    "\n",
    "    def BFS(self, startVertex):\n",
    "        visited = [False] * self.V  # To keep track of visited vertices\n",
    "        q = deque()\n",
    "\n",
    "        visited[startVertex] = True\n",
    "        q.append(startVertex)\n",
    "\n",
    "        while q:\n",
    "            currentVertex = q.popleft()\n",
    "            print(currentVertex, end=\" \")\n",
    "\n",
    "            # Explore adjacent vertices\n",
    "            for neighbor in self.adjList[currentVertex]:\n",
    "                if not visited[neighbor]:\n",
    "                    visited[neighbor] = True\n",
    "                    q.append(neighbor)\n",
    "\n",
    "if __name__ == \"__main__\":\n",
    "    graph = Graph(5)  # Create a graph with 6 vertices\n",
    "\n",
    "    graph.addEdge(0, 1)\n",
    "    graph.addEdge(0, 2)\n",
    "    graph.addEdge(0, 3)\n",
    "    graph.addEdge(1, 2)\n",
    "    graph.addEdge(2, 4)\n",
    "\n",
    "    print(\"Breadth-First Traversal starting from vertex 0:\")\n",
    "    graph.BFS(0)\n"
   ]
  },
  {
   "cell_type": "markdown",
   "id": "91ed543e-b628-43ad-a058-17ba2ae052f2",
   "metadata": {},
   "source": [
    "This makes BFS efficient for graph traversal, particularly when combined with the adjacency list representation. BFS is generally efficient for searching and traversal when the graph is not too dense. For sparse graphs, where E is much smaller than $V^2$ , the time complexity becomes almost linear, making BFS a reasonable choice for many practical applications.\n",
    "\n",
    "BFS guarantees it visits nodes according to their distance from the source node. It is an efficient algorithm to find the shortest path in unweighted graphs. Additionally, BFS can find connected components, detect cycles, and solve graph-related problems. However, it may consume more memory than DFS, especially in graphs with a significant or infinite branching factor."
   ]
  },
  {
   "cell_type": "code",
   "execution_count": null,
   "id": "2d739adc-4cdf-43a9-b71c-c0fb648e1bf4",
   "metadata": {},
   "outputs": [],
   "source": []
  }
 ],
 "metadata": {
  "kernelspec": {
   "display_name": "Python 3 (ipykernel)",
   "language": "python",
   "name": "python3"
  },
  "language_info": {
   "codemirror_mode": {
    "name": "ipython",
    "version": 3
   },
   "file_extension": ".py",
   "mimetype": "text/x-python",
   "name": "python",
   "nbconvert_exporter": "python",
   "pygments_lexer": "ipython3",
   "version": "3.11.4"
  }
 },
 "nbformat": 4,
 "nbformat_minor": 5
}
