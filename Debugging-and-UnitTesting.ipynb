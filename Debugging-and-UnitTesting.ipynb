{
 "cells": [
  {
   "cell_type": "markdown",
   "id": "8f3853cd-d6d1-4969-8abd-2fbc6bb4eb8b",
   "metadata": {},
   "source": [
    "# Debugging and UnitTesting Notebook"
   ]
  },
  {
   "cell_type": "markdown",
   "id": "e8501afc-2088-4b8f-8deb-cc9755f92410",
   "metadata": {
    "tags": []
   },
   "source": [
    "**Syntax errors:** Issues with the structure or grammar of the code. Usually SyntaxErrors can be traced back to missing punctuation characters, such as parentheses, quotation marks, or commas. Remember that in Python commas are used to separate parameters to functions. Paretheses must be balanced, or else Python thinks that you are trying to include everything that follows as a parameter to some function.\n",
    "\n",
    "Below are a couple of examples"
   ]
  },
  {
   "cell_type": "code",
   "execution_count": 65,
   "id": "aa22c2fc-b4bb-45fd-a930-68ebb3634dd8",
   "metadata": {
    "tags": []
   },
   "outputs": [
    {
     "ename": "SyntaxError",
     "evalue": "incomplete input (3691034111.py, line 1)",
     "output_type": "error",
     "traceback": [
      "\u001b[1;36m  Cell \u001b[1;32mIn[65], line 1\u001b[1;36m\u001b[0m\n\u001b[1;33m    print(\"Hello, World!\"\u001b[0m\n\u001b[1;37m                         ^\u001b[0m\n\u001b[1;31mSyntaxError\u001b[0m\u001b[1;31m:\u001b[0m incomplete input\n"
     ]
    }
   ],
   "source": [
    "print(\"Hello, World!\""
   ]
  },
  {
   "cell_type": "code",
   "execution_count": 66,
   "id": "b2b997ee-9a39-492b-b59d-181d67ddfb17",
   "metadata": {
    "tags": []
   },
   "outputs": [
    {
     "ename": "SyntaxError",
     "evalue": "'(' was never closed (2997438474.py, line 2)",
     "output_type": "error",
     "traceback": [
      "\u001b[1;36m  Cell \u001b[1;32mIn[66], line 2\u001b[1;36m\u001b[0m\n\u001b[1;33m    wait_time_str = input(\"How many hours do you want to wait\"\u001b[0m\n\u001b[1;37m                         ^\u001b[0m\n\u001b[1;31mSyntaxError\u001b[0m\u001b[1;31m:\u001b[0m '(' was never closed\n"
     ]
    }
   ],
   "source": [
    "current_time_str = input(\"What is the current time (in hours 0-23)?\")\n",
    "wait_time_str = input(\"How many hours do you want to wait\"\n",
    "\n",
    "current_time_int = int(current_time_str)\n",
    "wait_time_int = int(wait_time_str)\n",
    "\n",
    "final_time_int = current_time_int + wait_time_int\n",
    "print(final_time_int)\n"
   ]
  },
  {
   "cell_type": "markdown",
   "id": "19210f60-fc59-46f1-8251-cec63e530139",
   "metadata": {},
   "source": [
    "The error message clearly indicates that the problem is a SyntaxError. This lets you know the problem is not one of the other two types of errors we’ll discuss shortly.\n",
    "\n",
    "The error is on line 2 of the program. However, even though there is nothing wrong with line 1, the print statement does not execute — none of the program successfully executes because of the presence of just one syntax error.\n",
    "\n",
    "The error gives the line number where Python believes the error exists. In this case, the error message pinpoints the location correctly. But in other cases, the line number can be inaccurate or entirely missing."
   ]
  },
  {
   "cell_type": "markdown",
   "id": "ccb49bbd-6722-4d10-b77c-786a57182593",
   "metadata": {},
   "source": [
    "## Similarly we have runtime and logical errors\n",
    "\n",
    "A program with a runtime error is one that passed the interpreter’s syntax checks, and started to execute. However, during the execution of one of the statements in the program, an error occurred that caused the interpreter to stop executing the program and display an error message. Runtime errors are also called exceptions because they usually indicate that something exceptional (and bad) has happened.\n",
    "\n",
    "Here are some examples of common runtime errors you are sure to encounter:\n",
    "\n",
    "1. Misspelled or incorrectly capitalized variable and function names\n",
    "\n",
    "2. Attempts to perform operations (such as math operations) on data of the wrong type (ex. attempting to subtract two variables that hold string values)\n",
    "\n",
    "3. Dividing by zero\n",
    "\n",
    "4. Attempts to use a type conversion function such as int on a value that can’t be converted to an int"
   ]
  },
  {
   "cell_type": "code",
   "execution_count": 67,
   "id": "9fbeb4ea-b976-4c40-a52b-986c124aea1b",
   "metadata": {
    "tags": []
   },
   "outputs": [
    {
     "name": "stdin",
     "output_type": "stream",
     "text": [
      "Enter total before tax: 1000\n"
     ]
    },
    {
     "ename": "NameError",
     "evalue": "name 'subTotal' is not defined",
     "output_type": "error",
     "traceback": [
      "\u001b[1;31m---------------------------------------------------------------------------\u001b[0m",
      "\u001b[1;31mNameError\u001b[0m                                 Traceback (most recent call last)",
      "Cell \u001b[1;32mIn[67], line 2\u001b[0m\n\u001b[0;32m      1\u001b[0m subtotal \u001b[38;5;241m=\u001b[39m \u001b[38;5;28minput\u001b[39m(\u001b[38;5;124m\"\u001b[39m\u001b[38;5;124mEnter total before tax:\u001b[39m\u001b[38;5;124m\"\u001b[39m)\n\u001b[1;32m----> 2\u001b[0m tax \u001b[38;5;241m=\u001b[39m \u001b[38;5;241m.08\u001b[39m \u001b[38;5;241m*\u001b[39m subTotal\n\u001b[0;32m      3\u001b[0m \u001b[38;5;28mprint\u001b[39m(\u001b[38;5;124m\"\u001b[39m\u001b[38;5;124mtax on\u001b[39m\u001b[38;5;124m\"\u001b[39m, subtotal, \u001b[38;5;124m\"\u001b[39m\u001b[38;5;124mis:\u001b[39m\u001b[38;5;124m\"\u001b[39m, tax)\n",
      "\u001b[1;31mNameError\u001b[0m: name 'subTotal' is not defined"
     ]
    }
   ],
   "source": [
    "subtotal = input(\"Enter total before tax:\")\n",
    "tax = .08 * subTotal\n",
    "print(\"tax on\", subtotal, \"is:\", tax)"
   ]
  },
  {
   "cell_type": "code",
   "execution_count": 57,
   "id": "ddaa8f01-a5e1-4eea-a3a8-65d7888b74a2",
   "metadata": {
    "tags": []
   },
   "outputs": [
    {
     "name": "stdin",
     "output_type": "stream",
     "text": [
      "Enter total before tax: 10000\n"
     ]
    },
    {
     "ename": "TypeError",
     "evalue": "can't multiply sequence by non-int of type 'float'",
     "output_type": "error",
     "traceback": [
      "\u001b[1;31m---------------------------------------------------------------------------\u001b[0m",
      "\u001b[1;31mTypeError\u001b[0m                                 Traceback (most recent call last)",
      "Cell \u001b[1;32mIn[57], line 2\u001b[0m\n\u001b[0;32m      1\u001b[0m subtotal \u001b[38;5;241m=\u001b[39m \u001b[38;5;28minput\u001b[39m(\u001b[38;5;124m\"\u001b[39m\u001b[38;5;124mEnter total before tax:\u001b[39m\u001b[38;5;124m\"\u001b[39m)\n\u001b[1;32m----> 2\u001b[0m tax \u001b[38;5;241m=\u001b[39m \u001b[38;5;241m.08\u001b[39m \u001b[38;5;241m*\u001b[39m subtotal\n\u001b[0;32m      3\u001b[0m \u001b[38;5;28mprint\u001b[39m(\u001b[38;5;124m\"\u001b[39m\u001b[38;5;124mtax on\u001b[39m\u001b[38;5;124m\"\u001b[39m, subtotal, \u001b[38;5;124m\"\u001b[39m\u001b[38;5;124mis:\u001b[39m\u001b[38;5;124m\"\u001b[39m, tax)\n",
      "\u001b[1;31mTypeError\u001b[0m: can't multiply sequence by non-int of type 'float'"
     ]
    }
   ],
   "source": [
    "subtotal = input(\"Enter total before tax:\")\n",
    "tax = .08 * subtotal\n",
    "print(\"tax on\", subtotal, \"is:\", tax)\n"
   ]
  },
  {
   "cell_type": "markdown",
   "id": "97be06e3-fb28-4e6d-a740-9a8007ddf926",
   "metadata": {},
   "source": [
    "Similarly, If there is a semantic error in your program, it will run successfully in the sense that the computer will not generate any error messages. However, your program will not do the right thing. It will do something else. Specifically, it will do what you told it to do, not what you wanted it to do."
   ]
  },
  {
   "cell_type": "code",
   "execution_count": 69,
   "id": "4659f80d-b3a4-4d63-85bd-26b19f82bfef",
   "metadata": {
    "tags": []
   },
   "outputs": [
    {
     "name": "stdin",
     "output_type": "stream",
     "text": [
      "Enter a number: 54\n",
      "Enter another number: 56\n"
     ]
    },
    {
     "name": "stdout",
     "output_type": "stream",
     "text": [
      "The sum of 54 and 56 is 5456\n"
     ]
    }
   ],
   "source": [
    "num1 = input('Enter a number:')\n",
    "num2 = input('Enter another number:')\n",
    "sum = num1 + num2\n",
    "\n",
    "print('The sum of', num1, 'and', num2, 'is', sum)\n"
   ]
  },
  {
   "cell_type": "code",
   "execution_count": null,
   "id": "30d914d8-0975-4249-ab02-b90f5a99f838",
   "metadata": {},
   "outputs": [],
   "source": []
  },
  {
   "cell_type": "markdown",
   "id": "b0390bb9-7a00-4de6-ac1c-a549098f88d7",
   "metadata": {},
   "source": [
    "## Rubber Duck Debugging\n",
    "\n",
    "A problem-solving technique where you explain your code or issue out loud, often to an inanimate object (like a rubber duck), to better understand and find the solution."
   ]
  },
  {
   "cell_type": "markdown",
   "id": "5ee80f1a-1414-433b-bd47-9748babb5852",
   "metadata": {},
   "source": [
    "## Process:\n",
    "\n",
    "1. Explain the Problem: Describe your issue step-by-step.\n",
    "2. Clarify Assumptions: Talk through your thought process and assumptions.\n",
    "3. Identify Gaps: The act of explaining often reveals overlooked details or errors.\n",
    "\n",
    "This helps improve the clarify of your thinking by forcing you to verbalize concepts. Talking through code can help spot bugs or logical mistakes. It ultimately helps you consider different angles and approaches.\n",
    "\n"
   ]
  },
  {
   "cell_type": "code",
   "execution_count": 1,
   "id": "fe009f78-6dde-4d7a-a6cf-623ecb72bd9d",
   "metadata": {
    "tags": []
   },
   "outputs": [
    {
     "name": "stdout",
     "output_type": "stream",
     "text": [
      "-2\n"
     ]
    }
   ],
   "source": [
    "def add_numbers(a, b):\n",
    "    return a - b  # Mistake: subtraction instead of addition\n",
    "\n",
    "# Expected to add 5 and 7, but returning wrong result\n",
    "result = add_numbers(5, 7)\n",
    "print(result)\n"
   ]
  },
  {
   "cell_type": "markdown",
   "id": "7e54e6af-9759-4573-b901-270858ad5ca5",
   "metadata": {},
   "source": [
    "## Rubber Duck Debugging Process:\n",
    "\n",
    "1. You explain: “I want to add two numbers, 5 and 7, but my function returns an incorrect result.”\n",
    "2. You realize: \"Wait, I see that the function is using a - instead of + for addition!\"\n",
    "3. After this reflection, you correct the code:"
   ]
  },
  {
   "cell_type": "markdown",
   "id": "8d86d2ab-8ff3-42be-a7e2-fd279e2c0155",
   "metadata": {},
   "source": [
    "## A more concrete example:\n",
    "    \n",
    "You are working on a program that processes data from a file and generates a report. The data is structured as a list of dictionaries, where each dictionary contains information about different sales transactions. However, your code isn't producing the expected report output.\n",
    "\n",
    "You have a function *process_sales_data* that takes this list and processes it to find the total sales per product category. The issue is that the result is not accurate."
   ]
  },
  {
   "cell_type": "code",
   "execution_count": 39,
   "id": "d04a58cf-8ce7-4234-a231-aa5694248c17",
   "metadata": {
    "tags": []
   },
   "outputs": [
    {
     "name": "stdout",
     "output_type": "stream",
     "text": [
      "{'Electronics': 2000, 'Clothing': 200, 'None': 10}\n"
     ]
    }
   ],
   "source": [
    "def process_sales_data(sales_data):\n",
    "    category_sales = {}  # Dictionary to hold total sales per category\n",
    "\n",
    "    for transaction in sales_data:\n",
    "        category = transaction.get(\"category\")\n",
    "        amount = transaction.get(\"amount\")\n",
    "        \n",
    "        # Check if category is in the dictionary\n",
    "        if category not in category_sales:\n",
    "            category_sales[category] = amount\n",
    "        else:\n",
    "            category_sales[category] += amount  # Accumulate sales\n",
    "\n",
    "    return category_sales\n",
    "\n",
    "# Sample sales data\n",
    "sales_data = [\n",
    "    {\"product\": \"Laptop\", \"category\": \"Electronics\", \"amount\": 1000},\n",
    "    {\"product\": \"Headphones\", \"category\": \"Electronics\", \"amount\": 200},\n",
    "    {\"product\": \"Shoes\", \"category\": \"Clothing\", \"amount\": 150},\n",
    "    {\"product\": \"T-shirt\", \"category\": \"Clothing\", \"amount\": 50},\n",
    "    {\"product\": \"Phone\", \"category\": \"Electronics\", \"amount\": 800},\n",
    "    {\"product\": \"Pencil\", \"category\": \"None\", \"amount\": 10},\n",
    "]\n",
    "\n",
    "# Expected output: \n",
    "# {'Electronics': 2000, 'Clothing': 200}\n",
    "\n",
    "result = process_sales_data(sales_data)\n",
    "print(result)\n"
   ]
  },
  {
   "cell_type": "markdown",
   "id": "3bf4a602-5389-436d-a3a6-c1e49cb5a8f5",
   "metadata": {},
   "source": [
    "The output isn't quite incorrect. The program is returning: {'Electronics': 2000, 'Clothing': 200, 'None': 800}\n",
    "\n",
    "## Rubber Duck Debugging Process:\n",
    "\n",
    "### Step 1: Explain the Code\n",
    "\n",
    "You start by explaining the problem out loud:\n",
    "\n",
    "\"I have a function that processes sales data to calculate total sales for each category. The data comes as a list of dictionaries, where each dictionary has a product name, category, and amount.\"\n",
    "\n",
    "\"For each transaction, I check the category and amount, then update a dictionary, category_sales, that holds total sales per category.\"\n",
    "\n",
    "### Step 2: Reflect on Assumptions\n",
    "\n",
    "\"The loop goes through each transaction, extracts the category and amount, and adds the amount to the total for that category.\"\n",
    "\n",
    "\"So, the categories should be the keys in the dictionary, and the total sales for each category should be the values.\"\n",
    "\n",
    "### Step 3: Identify the Mistake\n",
    "\n",
    "As you explain the code, you start to notice that the issue might be with how the category is being extracted. The category might not always be properly set, leading to the 'None' key.\n",
    "\n",
    "\"I see now that I’m using transaction.get(\"category\") to get the category. But what if the category is missing or None in some transactions?\"\n",
    "\n",
    "\"If a category is missing or doesn't exist, None will be assigned, which might be why the 'None' category is showing up in the result.\"\n",
    "\n",
    "### Step 4: Debugging the Code\n",
    "\n",
    "To fix this issue, you can add a check to ensure that the category exists before processing the transaction:"
   ]
  },
  {
   "cell_type": "code",
   "execution_count": 5,
   "id": "291a0891-2551-44a8-9684-8fe431a28447",
   "metadata": {
    "tags": []
   },
   "outputs": [
    {
     "name": "stdout",
     "output_type": "stream",
     "text": [
      "{'Electronics': 2000, 'Clothing': 200}\n"
     ]
    }
   ],
   "source": [
    "def process_sales_data(sales_data):\n",
    "    category_sales = {}\n",
    "\n",
    "    for transaction in sales_data:\n",
    "        category = transaction.get(\"category\")\n",
    "        \n",
    "        # Ensure category is not None and exists\n",
    "        if category == \"None\":\n",
    "            continue  # Skip transactions without a category\n",
    "        \n",
    "        amount = transaction.get(\"amount\")\n",
    "        \n",
    "        if category not in category_sales:\n",
    "            category_sales[category] = amount\n",
    "        else:\n",
    "            category_sales[category] += amount\n",
    "\n",
    "    return category_sales\n",
    "\n",
    "result = process_sales_data(sales_data)\n",
    "print(result)\n",
    "\n"
   ]
  },
  {
   "cell_type": "markdown",
   "id": "3a5bade7-b232-445f-8372-ae74e70927d1",
   "metadata": {},
   "source": [
    "## Python In-built Debugging (PDB)"
   ]
  },
  {
   "cell_type": "code",
   "execution_count": 60,
   "id": "d0b2a7bb-89b0-474b-b60b-45baed4609b3",
   "metadata": {
    "tags": []
   },
   "outputs": [
    {
     "data": {
      "text/plain": [
       "5"
      ]
     },
     "execution_count": 60,
     "metadata": {},
     "output_type": "execute_result"
    }
   ],
   "source": [
    "from pdb import set_trace as bkpt\n",
    "\n",
    "def fibonacci(n):\n",
    "    #bkpt()\n",
    "    if n <= 1:\n",
    "        return n\n",
    "    return fibonacci(n-1) + fibonacci(n-2)\n",
    "\n",
    "result = fibonacci(5)\n",
    "result"
   ]
  },
  {
   "cell_type": "markdown",
   "id": "0d007d32-304a-4818-b7ce-4b196d9bb559",
   "metadata": {},
   "source": [
    "Another simple program to filter out the even numbers from the given list. Identify the issues with the below code and debug them using the in-built python debugger `pdb`. "
   ]
  },
  {
   "cell_type": "code",
   "execution_count": 64,
   "id": "2e729f4b-afdc-4784-80ac-404a5a6ac233",
   "metadata": {
    "tags": []
   },
   "outputs": [
    {
     "name": "stdout",
     "output_type": "stream",
     "text": [
      "> \u001b[1;32mc:\\users\\narend\\appdata\\local\\temp\\ipykernel_62724\\1079243185.py\u001b[0m(6)\u001b[0;36mget_even_numbers\u001b[1;34m()\u001b[0m\n",
      "\n"
     ]
    },
    {
     "name": "stdin",
     "output_type": "stream",
     "text": [
      "ipdb>  n\n"
     ]
    },
    {
     "name": "stdout",
     "output_type": "stream",
     "text": [
      "> \u001b[1;32mc:\\users\\narend\\appdata\\local\\temp\\ipykernel_62724\\1079243185.py\u001b[0m(7)\u001b[0;36mget_even_numbers\u001b[1;34m()\u001b[0m\n",
      "\n"
     ]
    },
    {
     "name": "stdin",
     "output_type": "stream",
     "text": [
      "ipdb>  num\n"
     ]
    },
    {
     "name": "stdout",
     "output_type": "stream",
     "text": [
      "1\n"
     ]
    },
    {
     "name": "stdin",
     "output_type": "stream",
     "text": [
      "ipdb>  num/2\n"
     ]
    },
    {
     "name": "stdout",
     "output_type": "stream",
     "text": [
      "0.5\n"
     ]
    },
    {
     "name": "stdin",
     "output_type": "stream",
     "text": [
      "ipdb>  c\n"
     ]
    },
    {
     "name": "stdout",
     "output_type": "stream",
     "text": [
      "Even numbers: []\n"
     ]
    }
   ],
   "source": [
    "# Function to create a list of even numbers\n",
    "import pdb \n",
    "def get_even_numbers(input_list):\n",
    "    even_numbers = []\n",
    "    pdb.set_trace()\n",
    "    for num in input_list:\n",
    "        if num / 2 == 0:\n",
    "            even_nubers.extend(num)\n",
    "    return even_numbers\n",
    "\n",
    "# Example usage\n",
    "input_list = [1, 2, 3, 4, 5, 6, 7, 8, 9, 10]\n",
    "even_numbers = get_even_numbers(input_list)\n",
    "\n",
    "print(\"Even numbers:\", even_numbers)\n"
   ]
  },
  {
   "cell_type": "markdown",
   "id": "bc0e03e5-8d55-48e9-883b-9dfefcfae96c",
   "metadata": {},
   "source": [
    "### Step Through the Code:\n",
    "\n",
    "1. Start the program, and when it hits the pdb.set_trace() line, the debugger will pause execution.\n",
    "\n",
    "2. Use n to step through the code line-by-line, watching how the recursion works.\n",
    "\n",
    "Commands you can use:\n",
    "\n",
    "n: To step through and move line-by-line.\n",
    "\n",
    "p: To print the value of any variable and inspect it at each recursive call. Ex: p num in the above eample would print the value of num variable at tha instant.\n",
    "\n",
    "s: Step into recursive calls to see how they evolve.\n",
    "\n",
    "After debiugging and solving the issues, we can optimize our code to work as we intended it to. "
   ]
  },
  {
   "cell_type": "code",
   "execution_count": 61,
   "id": "ce1c427e-90bb-4da3-b480-fa8cee131f19",
   "metadata": {
    "tags": []
   },
   "outputs": [
    {
     "name": "stdout",
     "output_type": "stream",
     "text": [
      "Even numbers: [2, 4, 6, 8, 10]\n"
     ]
    }
   ],
   "source": [
    "# Function to create a list of even numbers\n",
    "def get_even_numbers(input_list):\n",
    "    even_numbers = [num for num in input_list if num % 2 == 0]\n",
    "    return even_numbers\n",
    "\n",
    "# Example usage\n",
    "input_list = [1, 2, 3, 4, 5, 6, 7, 8, 9, 10]\n",
    "even_numbers = get_even_numbers(input_list)\n",
    "\n",
    "print(\"Even numbers:\", even_numbers)\n"
   ]
  },
  {
   "cell_type": "markdown",
   "id": "2d25234b-eaaf-4233-b0d1-00963dfd8993",
   "metadata": {},
   "source": [
    "Apply the debugger on a fairly more complex problem of developing a banking system. Debug to check if the withdrawal logic is correct and check how the balance changes using the in-built python debugger in the progran below."
   ]
  },
  {
   "cell_type": "code",
   "execution_count": null,
   "id": "c0c0e9c8-30bb-48dc-8cde-19346696ef5c",
   "metadata": {},
   "outputs": [],
   "source": [
    "class BankAccount:\n",
    "    def __init__(self, balance):\n",
    "        self.balance = balance\n",
    "    \n",
    "    def deposit(self, amount):\n",
    "        self.balance += amount\n",
    "        print(f\"Deposited: {amount}, New Balance: {self.balance}\")\n",
    "    \n",
    "    def withdraw(self, amount):\n",
    "        if self.balance < amount:\n",
    "            print(\"Insufficient funds\")\n",
    "        else:\n",
    "            self.balance -= amount\n",
    "            print(f\"Withdrew: {amount}, New Balance: {self.balance}\")\n",
    "    \n",
    "    def get_balance(self):\n",
    "        return self.balance\n",
    "\n",
    "account = BankAccount(1000)\n",
    "account.deposit(500)\n",
    "account.withdraw(200)\n",
    "account.withdraw(1500)\n",
    "\n",
    "\n"
   ]
  },
  {
   "cell_type": "markdown",
   "id": "ba91f52c-3ef8-4523-b850-6fa3ed40b065",
   "metadata": {},
   "source": [
    "## Unit Testing\n",
    "\n",
    "Unit testing involves testing individual components or functions of a program in isolation to ensure they perform as expected. Each test checks a small, specific part of the code to confirm that it works correctly. This is usually done by writing test cases that evaluate different scenarios and inputs.\n",
    "\n",
    "Unit tests are necessary because they help identify bugs early in the development process, improve code quality, and make code easier to maintain. They also support refactoring and enhance developer confidence by ensuring that changes don't break existing functionality.\n",
    "\n",
    "The purpose is to isolate each part of the system to verify that they are working as specified. The use of this type of test throughout the implementation is possible to reduce the amount of bugs in the application. It works by comparing the output of a function to be tested with expected values."
   ]
  },
  {
   "cell_type": "markdown",
   "id": "39080bc6-bd37-43ac-85dc-be0459828c40",
   "metadata": {},
   "source": [
    "## Basic Calculator class example:\n",
    "\n",
    "Let us consider just four basic operations of additon, subtraction, multiplication and division. We will first import the `unittest` module."
   ]
  },
  {
   "cell_type": "code",
   "execution_count": 10,
   "id": "85119cea-0ce7-416b-a153-3611186ca35a",
   "metadata": {
    "tags": []
   },
   "outputs": [],
   "source": [
    "import unittest"
   ]
  },
  {
   "cell_type": "code",
   "execution_count": 19,
   "id": "d6c7a710-d522-4bec-980a-56a10ee77a1a",
   "metadata": {
    "tags": []
   },
   "outputs": [],
   "source": [
    "class Calculator:\n",
    "    def __init__(self):\n",
    "        pass\n",
    "\n",
    "    def add(self, a, b):\n",
    "        return a + b\n",
    "\n",
    "    def sub(self, a, b):\n",
    "        return a - b\n",
    "  \n",
    "    def mul(self, a, b):\n",
    "        return a * b\n",
    "\n",
    "    def div(self, a, b):\n",
    "        if b != 0:\n",
    "            return a / b"
   ]
  },
  {
   "cell_type": "markdown",
   "id": "9c204e6c-2b2a-4a36-9a2f-d31957f0bf6f",
   "metadata": {},
   "source": [
    "We can test a single scenario using the print statement. However, they are not scalable in nature and are repeative."
   ]
  },
  {
   "cell_type": "code",
   "execution_count": 40,
   "id": "61d7b531-918f-4311-97d3-757102c69fc5",
   "metadata": {
    "tags": []
   },
   "outputs": [
    {
     "name": "stdout",
     "output_type": "stream",
     "text": [
      "17\n"
     ]
    }
   ],
   "source": [
    "calc = Calculator()\n",
    "print(calc.add(10, 7))"
   ]
  },
  {
   "cell_type": "markdown",
   "id": "ac1efe87-fcfb-4ed2-88e6-ef60ec8924cb",
   "metadata": {},
   "source": [
    "The objective is to ensure each method is working correctly and giving the right output when receiving any two inputs.\n",
    "\n",
    "A test case is created by inheriting from unittest.TestCase.\n",
    "\n",
    "We will first appropriately define the name of the test class and inherit from the `unittest.TestCase`. \n",
    "\n",
    "Every testing method starts with `test_` followed by the actual names of the method. \n",
    "\n",
    "We create new objects/instances to test our code using the various built-in assert statements. "
   ]
  },
  {
   "cell_type": "code",
   "execution_count": 20,
   "id": "b90ee43e-dd05-4984-8d12-5f78a6c23dab",
   "metadata": {
    "tags": []
   },
   "outputs": [],
   "source": [
    "import unittest\n",
    "\n",
    "class TestCalculator(unittest.TestCase):\n",
    "  \n",
    "    def test_add(self):\n",
    "        '''Test case function for addition'''\n",
    "        self.calc = Calculator()\n",
    "        result = self.calc.add(4, 7)\n",
    "        expected = 11\n",
    "        self.assertEqual(result, expected)\n",
    "\n",
    "    def test_sub(self):\n",
    "        '''Test case function for subtraction'''\n",
    "        self.calc = Calculator()\n",
    "        result = self.calc.sub(10, 5)\n",
    "        expected = 5\n",
    "        self.assertEqual(result, expected)\n",
    "\n",
    "    @unittest.skip('Some reason')\n",
    "    def test_mul(self):\n",
    "        '''Test case function for multiplication'''\n",
    "        self.calc = Calculator()\n",
    "        result = self.calc.mul(3, 7)\n",
    "        expected = 21\n",
    "        self.assertEqual(result, expected)\n",
    "\n",
    "    def test_div(self):\n",
    "        '''Test case function for division'''\n",
    "        self.calc = Calculator()\n",
    "        result = self.calc.div(10, 2)\n",
    "        expected = 4\n",
    "        self.assertEqual(result, expected)\n",
    "        \n",
    "unittest.main(argv=[''], defaultTest='TestCalculator', verbosity=2, exit=False)"
   ]
  },
  {
   "cell_type": "markdown",
   "id": "8cd27f84-6f2a-4d5f-8731-19c814884e5e",
   "metadata": {},
   "source": [
    "We created 4 unit tests, each of it is checking a method of the calculator class. These checks are being done through calls to `Assertions`, in this case the `assertEqual` function. Note that, flagging the method `test_mul` with `@unittest.skip('your_reason')` will skip the test for that method. We can then run the tests by running the below command,"
   ]
  },
  {
   "cell_type": "code",
   "execution_count": 23,
   "id": "7d47d298-b08b-4466-804b-3112eff2f32e",
   "metadata": {
    "tags": []
   },
   "outputs": [
    {
     "name": "stderr",
     "output_type": "stream",
     "text": [
      "test_add (__main__.TestCalculator.test_add)\n",
      "Test case function for addition ... ok\n",
      "test_div (__main__.TestCalculator.test_div)\n",
      "Test case function for division ... FAIL\n",
      "test_mul (__main__.TestCalculator.test_mul)\n",
      "Test case function for multiplication ... skipped 'Some reason'\n",
      "test_sub (__main__.TestCalculator.test_sub)\n",
      "Test case function for subtraction ... ok\n",
      "\n",
      "======================================================================\n",
      "FAIL: test_div (__main__.TestCalculator.test_div)\n",
      "Test case function for division\n",
      "----------------------------------------------------------------------\n",
      "Traceback (most recent call last):\n",
      "  File \"C:\\Users\\narend\\AppData\\Local\\Temp\\ipykernel_62724\\3887554070.py\", line 30, in test_div\n",
      "    self.assertEqual(result, expected)\n",
      "AssertionError: 5.0 != 4\n",
      "\n",
      "----------------------------------------------------------------------\n",
      "Ran 4 tests in 0.005s\n",
      "\n",
      "FAILED (failures=1, skipped=1)\n"
     ]
    },
    {
     "data": {
      "text/plain": [
       "<unittest.main.TestProgram at 0x22e5e0aabd0>"
      ]
     },
     "execution_count": 23,
     "metadata": {},
     "output_type": "execute_result"
    }
   ],
   "source": [
    "unittest.main(argv=[''], defaultTest='TestCalculator', verbosity=2, exit=False)"
   ]
  },
  {
   "cell_type": "markdown",
   "id": "2ce6f455-4bb5-404c-8976-e0c35f88085d",
   "metadata": {},
   "source": [
    "After running you will see something like:\n",
    "\n",
    "```\n",
    "test_add (__main__.TestCalculator)\n",
    "Test case function for addition ... ok\n",
    "test_div (__main__.TestCalculator)\n",
    "Test case function for division ... FAIL\n",
    "test_mul (__main__.TestCalculator)\n",
    "Test case function for multiplication ... skipped 'Some reason'\n",
    "test_sub (__main__.TestCalculator)\n",
    "Test case function for subtraction ... ok\n",
    "```\n",
    "\n",
    "Where addition and subtraction passed, multiplication was intentionally skipped, and division failed.\n",
    "\n",
    "Unittest has several functions, known as `Assertions`, useful for the development of unit tests. Some are: `assertNotEqual(a, b)`, `assertTrue(x)`, `assertFalse(x)`, `assertIs(a, b)`, `assertIsNot(a, b)`, `assertIsNone(x)`, and much more. Check the [python documentation](https://docs.python.org/3/library/unittest.html) for complete functionalities available. "
   ]
  },
  {
   "cell_type": "markdown",
   "id": "019a0be1-d7e9-4034-ae74-40c619bc2ada",
   "metadata": {},
   "source": [
    "## Exception Testing\n",
    "\n",
    "Likewise the `assert*` functions listed above there is also `assertRaises` function for testing an exception.\n",
    "\n",
    "Use: `assertRaises(exception, callable, *args, **kwds)`\n",
    "\n",
    "Where `exception` is the type of exception, `callable` is the method to be tested, and `args` are optional parameters passed to the `callable` method.\n",
    "\n",
    "Let's change the calculator's division operation for a practical use of `assertRaises`."
   ]
  },
  {
   "cell_type": "code",
   "execution_count": 24,
   "id": "1fbe6007-7700-4b78-b3b0-5c820c51a799",
   "metadata": {
    "tags": []
   },
   "outputs": [],
   "source": [
    "class Calculator:\n",
    "    def __init__(self):\n",
    "        pass\n",
    "\n",
    "    def add(self, a, b):\n",
    "        return a + b\n",
    "\n",
    "    def sub(self, a, b):\n",
    "        return a - b\n",
    "  \n",
    "    def mul(self, a, b):\n",
    "        return a * b\n",
    "\n",
    "    def div(self, a, b):\n",
    "        if b == 0:\n",
    "            raise ZeroDivisionError(\"The divisor must not be zero\")\n",
    "        return a / b"
   ]
  },
  {
   "cell_type": "markdown",
   "id": "a48cdec7-a074-4b15-a745-99f7044c1412",
   "metadata": {},
   "source": [
    "Whenever `div` is called with divisor equals 0 an error raises. Check by running the following test case:"
   ]
  },
  {
   "cell_type": "code",
   "execution_count": 25,
   "id": "63f5b1e4-5df6-4de1-94f0-8192f1c1158e",
   "metadata": {
    "tags": []
   },
   "outputs": [
    {
     "name": "stderr",
     "output_type": "stream",
     "text": [
      "test_div (__main__.TestCalculator.test_div)\n",
      "Make sure ZeroDivisionError is raised when necessary ... ok\n",
      "\n",
      "----------------------------------------------------------------------\n",
      "Ran 1 test in 0.002s\n",
      "\n",
      "OK\n"
     ]
    },
    {
     "data": {
      "text/plain": [
       "<unittest.main.TestProgram at 0x22e5d34fe50>"
      ]
     },
     "execution_count": 25,
     "metadata": {},
     "output_type": "execute_result"
    }
   ],
   "source": [
    "class TestCalculator(unittest.TestCase):\n",
    "\n",
    "    def test_div(self):\n",
    "        '''Make sure ZeroDivisionError is raised when necessary'''\n",
    "        self.calc = Calculator()\n",
    "        self.assertRaises(ZeroDivisionError, self.calc.div, 10, 0)\n",
    "\n",
    "unittest.main(argv=[''], defaultTest=\"TestCalculator\",  verbosity=2, exit=False)"
   ]
  },
  {
   "cell_type": "markdown",
   "id": "049955f3-4fd6-443f-a94b-f81dc26e019f",
   "metadata": {},
   "source": [
    "### SetUp and TearDown methods\n",
    "\n",
    "The setUp and tearDown methods are also useful in organizing test cases. When a `setUp` is defined, the test runner will run that method **prior** to each test. Likewise, if a `tearDown` is defined the test runner will invoke that method **after** each test.\n",
    "\n",
    "As you might notice we are creating an instance of Calculator `self.calc = Calculator()` in every method to be tested. To avoid repeting code we can simply use the `setUp` function available.\n",
    "\n",
    "See how our division test case will now look like:"
   ]
  },
  {
   "cell_type": "code",
   "execution_count": 28,
   "id": "7eba4275-a58e-4c85-8c45-a4b1db9fcb9c",
   "metadata": {
    "tags": []
   },
   "outputs": [
    {
     "name": "stderr",
     "output_type": "stream",
     "text": [
      "test_div (__main__.TestCalcDiv.test_div)\n",
      "Test case function for division ... ok\n",
      "test_div_error (__main__.TestCalcDiv.test_div_error)\n",
      "Make sure ZeroDivisionError is raised when necessary ... ok\n",
      "\n",
      "----------------------------------------------------------------------\n",
      "Ran 2 tests in 0.003s\n",
      "\n",
      "OK\n"
     ]
    },
    {
     "data": {
      "text/plain": [
       "<unittest.main.TestProgram at 0x22e5d8de790>"
      ]
     },
     "execution_count": 28,
     "metadata": {},
     "output_type": "execute_result"
    }
   ],
   "source": [
    "class TestCalcDiv(unittest.TestCase):\n",
    "\n",
    "    def setUp(self):\n",
    "        '''Set up an instance of Calculator pior to every test execution'''\n",
    "        self.calc = Calculator()\n",
    "\n",
    "    def test_div(self):\n",
    "        '''Test case function for division'''\n",
    "        self.assertEqual(self.calc.div(10, 5), 2)\n",
    "        self.assertEqual(self.calc.div(12, 2), 6)\n",
    "\n",
    "    def test_div_error(self):\n",
    "        '''Make sure ZeroDivisionError is raised when necessary'''\n",
    "        self.assertRaises(ZeroDivisionError, self.calc.div, 10, 0)\n",
    "\n",
    "unittest.main(argv=[''], defaultTest='TestCalcDiv', verbosity=2, exit=False)"
   ]
  },
  {
   "cell_type": "markdown",
   "id": "d5a1a92f-08e1-42ea-87da-faf4b3f6ceb3",
   "metadata": {},
   "source": [
    "## A more complex example of a library management system.\n",
    "\n",
    "Let's say we have a Library Management System with classes:\n",
    "\n",
    "Book: Represents a book.\n",
    "\n",
    "Member: Represents a library member.\n",
    "\n",
    "Library: Manages books and members."
   ]
  },
  {
   "cell_type": "code",
   "execution_count": 29,
   "id": "8853536b-b444-4906-8d17-06a5f97bd5b1",
   "metadata": {
    "tags": []
   },
   "outputs": [],
   "source": [
    "class Book:\n",
    "    def __init__(self, title, author, isbn):\n",
    "        self.title = title\n",
    "        self.author = author\n",
    "        self.isbn = isbn\n",
    "        self.is_borrowed = False\n",
    "\n",
    "    def borrow(self):\n",
    "        if self.is_borrowed:\n",
    "            raise ValueError(\"Book already borrowed\")\n",
    "        self.is_borrowed = True\n",
    "\n",
    "    def return_book(self):\n",
    "        if not self.is_borrowed:\n",
    "            raise ValueError(\"Book was not borrowed\")\n",
    "        self.is_borrowed = False\n",
    "\n",
    "\n",
    "class Member:\n",
    "    def __init__(self, name):\n",
    "        self.name = name\n",
    "        self.borrowed_books = []\n",
    "\n",
    "    def borrow_book(self, book):\n",
    "        if len(self.borrowed_books) >= 3:\n",
    "            raise ValueError(\"Cannot borrow more than 3 books\")\n",
    "        book.borrow()\n",
    "        self.borrowed_books.append(book)\n",
    "\n",
    "    def return_book(self, book):\n",
    "        if book not in self.borrowed_books:\n",
    "            raise ValueError(\"Book not borrowed by this member\")\n",
    "        book.return_book()\n",
    "        self.borrowed_books.remove(book)\n",
    "\n",
    "\n",
    "class Library:\n",
    "    def __init__(self):\n",
    "        self.books = []\n",
    "        self.members = []\n",
    "\n",
    "    def add_book(self, book):\n",
    "        self.books.append(book)\n",
    "\n",
    "    def register_member(self, member):\n",
    "        self.members.append(member)\n",
    "\n",
    "    def find_book(self, isbn):\n",
    "        for book in self.books:\n",
    "            if book.isbn == isbn:\n",
    "                return book\n",
    "        return None\n"
   ]
  },
  {
   "cell_type": "markdown",
   "id": "cb66db4d-6711-43ce-bd8d-c0014a861b1c",
   "metadata": {},
   "source": [
    "Now the library management system is written, let us write the program for testing all the methods available in the system.  "
   ]
  },
  {
   "cell_type": "code",
   "execution_count": 38,
   "id": "993461df-e6f1-4fc7-ba22-4359c9a8af79",
   "metadata": {
    "tags": []
   },
   "outputs": [
    {
     "name": "stderr",
     "output_type": "stream",
     "text": [
      "test_borrow_already_borrowed_book (__main__.TestBook.test_borrow_already_borrowed_book) ... ok\n",
      "test_borrow_book (__main__.TestBook.test_borrow_book) ... ok\n",
      "test_initial_state (__main__.TestBook.test_initial_state) ... ok\n",
      "test_return_book (__main__.TestBook.test_return_book) ... ok\n",
      "test_return_unborrowed_book (__main__.TestBook.test_return_unborrowed_book) ... ok\n",
      "\n",
      "----------------------------------------------------------------------\n",
      "Ran 5 tests in 0.005s\n",
      "\n",
      "OK\n"
     ]
    },
    {
     "data": {
      "text/plain": [
       "<unittest.main.TestProgram at 0x22e5e120e50>"
      ]
     },
     "execution_count": 38,
     "metadata": {},
     "output_type": "execute_result"
    }
   ],
   "source": [
    "import unittest\n",
    "\n",
    "\n",
    "class TestBook(unittest.TestCase):\n",
    "    def setUp(self):\n",
    "        self.book = Book(\"Python 101\", \"John Doe\", \"123456789\")\n",
    "        \n",
    "    def tearDown(self):\n",
    "        \"\"\"Cleanup after each test (not strictly necessary here).\"\"\"\n",
    "        del self.book\n",
    "\n",
    "    def test_initial_state(self):\n",
    "        self.assertFalse(self.book.is_borrowed)\n",
    "\n",
    "    def test_borrow_book(self):\n",
    "        self.book.borrow()\n",
    "        self.assertTrue(self.book.is_borrowed)\n",
    "\n",
    "    def test_borrow_already_borrowed_book(self):\n",
    "        self.book.borrow()\n",
    "        with self.assertRaises(ValueError):\n",
    "            self.book.borrow()\n",
    "\n",
    "    def test_return_book(self):\n",
    "        self.book.borrow()\n",
    "        self.book.return_book()\n",
    "        self.assertFalse(self.book.is_borrowed)\n",
    "\n",
    "    def test_return_unborrowed_book(self):\n",
    "        with self.assertRaises(ValueError):\n",
    "            self.book.return_book()\n",
    "\n",
    "\n",
    "class TestMember(unittest.TestCase):\n",
    "    def setUp(self):\n",
    "        self.member = Member(\"Alice\")\n",
    "        self.book1 = Book(\"Python 101\", \"John Doe\", \"123\")\n",
    "        self.book2 = Book(\"AI Basics\", \"Jane Smith\", \"456\")\n",
    "        self.book3 = Book(\"Deep Learning\", \"Andrew Ng\", \"789\")\n",
    "        self.book4 = Book(\"ML Mastery\", \"Chris Brown\", \"101\")\n",
    "\n",
    "    def test_borrow_book(self):\n",
    "        self.member.borrow_book(self.book1)\n",
    "        self.assertIn(self.book1, self.member.borrowed_books)\n",
    "\n",
    "    def test_borrow_more_than_three_books(self):\n",
    "        self.member.borrow_book(self.book1)\n",
    "        self.member.borrow_book(self.book2)\n",
    "        self.member.borrow_book(self.book3)\n",
    "        with self.assertRaises(ValueError):\n",
    "            self.member.borrow_book(self.book4)\n",
    "\n",
    "    def test_return_book(self):\n",
    "        self.member.borrow_book(self.book1)\n",
    "        self.member.return_book(self.book1)\n",
    "        self.assertNotIn(self.book1, self.member.borrowed_books)\n",
    "\n",
    "    def test_return_unborrowed_book(self):\n",
    "        with self.assertRaises(ValueError):\n",
    "            self.member.return_book(self.book1)\n",
    "\n",
    "\n",
    "class TestLibrary(unittest.TestCase):\n",
    "    def setUp(self):\n",
    "        self.library = Library()\n",
    "        self.book = Book(\"Python 101\", \"John Doe\", \"123\")\n",
    "        self.member = Member(\"Alice\")\n",
    "\n",
    "    def test_add_book(self):\n",
    "        self.library.add_book(self.book)\n",
    "        self.assertIn(self.book, self.library.books)\n",
    "\n",
    "    def test_register_member(self):\n",
    "        self.library.register_member(self.member)\n",
    "        self.assertIn(self.member, self.library.members)\n",
    "\n",
    "    def test_find_book(self):\n",
    "        self.library.add_book(self.book)\n",
    "        found_book = self.library.find_book(\"123\")\n",
    "        self.assertEqual(found_book, self.book)\n",
    "\n",
    "    def test_find_nonexistent_book(self):\n",
    "        self.assertIsNone(self.library.find_book(\"999\"))\n",
    "\n",
    "\n",
    "unittest.main(argv=[''], defaultTest=\"TestBook\",  verbosity=2, exit=False)\n"
   ]
  },
  {
   "cell_type": "markdown",
   "id": "2c6aa7ea-b16f-4717-9b1e-494719670097",
   "metadata": {},
   "source": [
    "Try writing the teardown methods for `Testmember` and `TestLibrary` test classes.\n"
   ]
  },
  {
   "cell_type": "markdown",
   "id": "175873b5-0321-4f71-ab0c-0072130b293e",
   "metadata": {
    "tags": []
   },
   "source": [
    "# Regular Expressions (RegEx)\n",
    "\n"
   ]
  },
  {
   "cell_type": "code",
   "execution_count": 70,
   "id": "740f0dad-987c-45a6-abab-cb7bea336a59",
   "metadata": {},
   "outputs": [
    {
     "name": "stdout",
     "output_type": "stream",
     "text": [
      "Is 'example.email@domain.com' a valid email? True\n",
      "Extracted dates: ['12/05/2023', '2024-06-17', '05-14-2025']\n",
      "Phone numbers found: ['123-456-7890', '(987) 654-3210']\n",
      "Hashtags: ['#AI', '#DeepLearning'], Mentions: ['@john_doe']\n",
      "Is 'StrongP@ss1' a strong password? True\n"
     ]
    }
   ],
   "source": [
    "import re\n",
    "\n",
    "def validate_email(email):\n",
    "    \"\"\"Validates an email address using regex.\"\"\"\n",
    "    pattern = r\"^[a-zA-Z0-9_.+-]+@[a-zA-Z0-9-]+\\.[a-zA-Z0-9-.]+$\"\n",
    "    return bool(re.match(pattern, email))\n",
    "\n",
    "def extract_dates(text):\n",
    "    \"\"\"Extracts dates from a given text in various formats.\"\"\"\n",
    "    pattern = r\"\\b(?:\\d{1,2}[-/]\\d{1,2}[-/]\\d{2,4}|\\d{4}[-/]\\d{1,2}[-/]\\d{1,2})\\b\"\n",
    "    return re.findall(pattern, text)\n",
    "\n",
    "def find_phone_numbers(text):\n",
    "    \"\"\"Finds phone numbers in various formats (US-based).\"\"\"\n",
    "    pattern = r\"\\(?\\d{3}\\)?[-.\\s]?\\d{3}[-.\\s]?\\d{4}\"\n",
    "    return re.findall(pattern, text)\n",
    "\n",
    "def extract_hashtags_mentions(text):\n",
    "    \"\"\"Extracts hashtags (#hashtag) and mentions (@user) from social media text.\"\"\"\n",
    "    hashtags = re.findall(r\"#\\w+\", text)\n",
    "    mentions = re.findall(r\"@\\w+\", text)\n",
    "    return hashtags, mentions\n",
    "\n",
    "def check_password_strength(password):\n",
    "    \"\"\"\n",
    "    Validates password strength:\n",
    "    - At least 8 characters\n",
    "    - At least one uppercase letter\n",
    "    - At least one lowercase letter\n",
    "    - At least one digit\n",
    "    - At least one special character\n",
    "    \"\"\"\n",
    "    pattern = r\"^(?=.*[a-z])(?=.*[A-Z])(?=.*\\d)(?=.*[@$!%*?&])[A-Za-z\\d@$!%*?&]{8,}$\"\n",
    "    return bool(re.match(pattern, password))\n",
    "\n",
    "# Sample usage\n",
    "\n",
    "email = \"example.email@domain.com\"\n",
    "print(f\"Is '{email}' a valid email? {validate_email(email)}\")\n",
    "\n",
    "text_with_dates = \"Important dates: 12/05/2023, 2024-06-17, and 05-14-2025.\"\n",
    "print(f\"Extracted dates: {extract_dates(text_with_dates)}\")\n",
    "\n",
    "text_with_phones = \"Call me at 123-456-7890 or (987) 654-3210.\"\n",
    "print(f\"Phone numbers found: {find_phone_numbers(text_with_phones)}\")\n",
    "\n",
    "social_text = \"Great event! @john_doe #AI #DeepLearning\"\n",
    "hashtags, mentions = extract_hashtags_mentions(social_text)\n",
    "print(f\"Hashtags: {hashtags}, Mentions: {mentions}\")\n",
    "\n",
    "password = \"StrongP@ss1\"\n",
    "print(f\"Is '{password}' a strong password? {check_password_strength(password)}\")\n"
   ]
  },
  {
   "cell_type": "code",
   "execution_count": null,
   "id": "463440dc-f0f5-4c2d-84c5-06fe5057a40e",
   "metadata": {},
   "outputs": [],
   "source": []
  },
  {
   "cell_type": "code",
   "execution_count": null,
   "id": "6b0102a0-cba8-41cb-850c-e6a52b55138d",
   "metadata": {},
   "outputs": [],
   "source": []
  }
 ],
 "metadata": {
  "kernelspec": {
   "display_name": "Python 3 (ipykernel)",
   "language": "python",
   "name": "python3"
  },
  "language_info": {
   "codemirror_mode": {
    "name": "ipython",
    "version": 3
   },
   "file_extension": ".py",
   "mimetype": "text/x-python",
   "name": "python",
   "nbconvert_exporter": "python",
   "pygments_lexer": "ipython3",
   "version": "3.11.4"
  }
 },
 "nbformat": 4,
 "nbformat_minor": 5
}
