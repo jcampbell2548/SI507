{
  "cells": [
    {
      "cell_type": "markdown",
      "source": [
        "# https://tinyurl.com/CollectionsExamples"
      ],
      "metadata": {
        "id": "CmKPvU3LvxNf"
      }
    },
    {
      "cell_type": "markdown",
      "metadata": {
        "id": "j1hHYrHQuoZD"
      },
      "source": [
        "# Introduction to the Python `collections` Library\n",
        "\n",
        "The Python `collections` module provides specialized container data types that can simplify many programming tasks. In this notebook, we will explore four important classes:\n",
        "\n",
        "- **`defaultdict`**\n",
        "- **`namedtuple`**\n",
        "- **`Counter`**\n",
        "- **`deque`**\n",
        "\n",
        "For each of these classes, we provide explanations on when to use them along with two examples."
      ]
    },
    {
      "cell_type": "markdown",
      "metadata": {
        "id": "5JDWW_2PuoZF"
      },
      "source": [
        "## `defaultdict`\n",
        "\n",
        "**When to use it:**\n",
        "\n",
        "- Use `defaultdict` when you want a dictionary that automatically initializes missing keys with a default value.\n",
        "- It is especially useful when grouping items or counting objects, because you don't have to check if a key exists before updating its value.\n",
        "\n",
        "**Key Benefit:**\n",
        "\n",
        "It helps reduce boilerplate code by eliminating the need to manually check and initialize keys in a dictionary."
      ]
    },
    {
      "cell_type": "code",
      "execution_count": 2,
      "metadata": {
        "id": "Wpx67FIhuoZG",
        "colab": {
          "base_uri": "https://localhost:8080/"
        },
        "outputId": "1e050040-a5fc-4f85-f684-9a64b3401a9a"
      },
      "outputs": [
        {
          "output_type": "stream",
          "name": "stdout",
          "text": [
            "Word count: {'this': 2, 'is': 2, 'a': 2, 'test': 2, 'only': 1}\n"
          ]
        }
      ],
      "source": [
        "from collections import defaultdict\n",
        "\n",
        "# Example 1: Counting words in a sentence using int as the default factory\n",
        "sentence = \"this is a test this is only a test\".split()\n",
        "word_count = defaultdict(int)\n",
        "\n",
        "for word in sentence:\n",
        "    word_count[word] += 1\n",
        "\n",
        "print(\"Word count:\", dict(word_count))"
      ]
    },
    {
      "cell_type": "code",
      "execution_count": 3,
      "metadata": {
        "id": "WIuoTkJouoZH",
        "colab": {
          "base_uri": "https://localhost:8080/"
        },
        "outputId": "c059c2e7-218b-4ced-c574-0c265fce74f8"
      },
      "outputs": [
        {
          "output_type": "stream",
          "name": "stdout",
          "text": [
            "Grouped items: {'fruits': ['apple', 'banana'], 'vegetables': ['carrot']}\n"
          ]
        }
      ],
      "source": [
        "# Example 2: Grouping items into lists using list as the default factory\n",
        "groups = defaultdict(list)\n",
        "\n",
        "groups['fruits'].append('apple')\n",
        "groups['fruits'].append('banana')\n",
        "groups['vegetables'].append('carrot')\n",
        "\n",
        "print(\"Grouped items:\", dict(groups))"
      ]
    },
    {
      "cell_type": "code",
      "source": [
        "type(groups)"
      ],
      "metadata": {
        "id": "hlxH2RkCuztS",
        "colab": {
          "base_uri": "https://localhost:8080/"
        },
        "outputId": "2e96e374-00f5-47e7-f38e-1f42487ef50d"
      },
      "execution_count": 4,
      "outputs": [
        {
          "output_type": "execute_result",
          "data": {
            "text/plain": [
              "collections.defaultdict"
            ]
          },
          "metadata": {},
          "execution_count": 4
        }
      ]
    },
    {
      "cell_type": "code",
      "source": [
        "print(groups)"
      ],
      "metadata": {
        "id": "3EohDgL4vHqg",
        "colab": {
          "base_uri": "https://localhost:8080/"
        },
        "outputId": "fc14d5bd-2554-4fc5-a886-c79bb02fc809"
      },
      "execution_count": 5,
      "outputs": [
        {
          "output_type": "stream",
          "name": "stdout",
          "text": [
            "defaultdict(<class 'list'>, {'fruits': ['apple', 'banana'], 'vegetables': ['carrot']})\n"
          ]
        }
      ]
    },
    {
      "cell_type": "code",
      "source": [
        "groups2 = {}\n",
        "groups2['fruits'].append('apple')\n",
        "groups2['fruits'].append('banana')\n",
        "groups2['vegetables'].append('carrot')\n",
        "\n",
        "print(\"group2 items:\", groups)\n",
        "\n",
        "# does not work, you can't just add keys to an empty dictionary so using defaultdict is very useful"
      ],
      "metadata": {
        "id": "PLcQdPc2u3Jo",
        "colab": {
          "base_uri": "https://localhost:8080/",
          "height": 216
        },
        "outputId": "5276a7cb-5fe2-4964-c072-689bf0784629"
      },
      "execution_count": 6,
      "outputs": [
        {
          "output_type": "error",
          "ename": "KeyError",
          "evalue": "'fruits'",
          "traceback": [
            "\u001b[0;31m---------------------------------------------------------------------------\u001b[0m",
            "\u001b[0;31mKeyError\u001b[0m                                  Traceback (most recent call last)",
            "\u001b[0;32m<ipython-input-6-6d04bba37671>\u001b[0m in \u001b[0;36m<cell line: 0>\u001b[0;34m()\u001b[0m\n\u001b[1;32m      1\u001b[0m \u001b[0mgroups2\u001b[0m \u001b[0;34m=\u001b[0m \u001b[0;34m{\u001b[0m\u001b[0;34m}\u001b[0m\u001b[0;34m\u001b[0m\u001b[0;34m\u001b[0m\u001b[0m\n\u001b[0;32m----> 2\u001b[0;31m \u001b[0mgroups2\u001b[0m\u001b[0;34m[\u001b[0m\u001b[0;34m'fruits'\u001b[0m\u001b[0;34m]\u001b[0m\u001b[0;34m.\u001b[0m\u001b[0mappend\u001b[0m\u001b[0;34m(\u001b[0m\u001b[0;34m'apple'\u001b[0m\u001b[0;34m)\u001b[0m\u001b[0;34m\u001b[0m\u001b[0;34m\u001b[0m\u001b[0m\n\u001b[0m\u001b[1;32m      3\u001b[0m \u001b[0mgroups2\u001b[0m\u001b[0;34m[\u001b[0m\u001b[0;34m'fruits'\u001b[0m\u001b[0;34m]\u001b[0m\u001b[0;34m.\u001b[0m\u001b[0mappend\u001b[0m\u001b[0;34m(\u001b[0m\u001b[0;34m'banana'\u001b[0m\u001b[0;34m)\u001b[0m\u001b[0;34m\u001b[0m\u001b[0;34m\u001b[0m\u001b[0m\n\u001b[1;32m      4\u001b[0m \u001b[0mgroups2\u001b[0m\u001b[0;34m[\u001b[0m\u001b[0;34m'vegetables'\u001b[0m\u001b[0;34m]\u001b[0m\u001b[0;34m.\u001b[0m\u001b[0mappend\u001b[0m\u001b[0;34m(\u001b[0m\u001b[0;34m'carrot'\u001b[0m\u001b[0;34m)\u001b[0m\u001b[0;34m\u001b[0m\u001b[0;34m\u001b[0m\u001b[0m\n\u001b[1;32m      5\u001b[0m \u001b[0;34m\u001b[0m\u001b[0m\n",
            "\u001b[0;31mKeyError\u001b[0m: 'fruits'"
          ]
        }
      ]
    },
    {
      "cell_type": "markdown",
      "metadata": {
        "id": "ybikoB37uoZI"
      },
      "source": [
        "## `namedtuple`\n",
        "\n",
        "**When to use it:**\n",
        "\n",
        "- Use `namedtuple` when you need a lightweight, immutable object type to group together related data.\n",
        "- It is ideal for representing simple records or data structures (like a point in 2D space or a record in a database) where you want both immutability and the convenience of accessing fields by name.\n",
        "\n",
        "**Key Benefit:**\n",
        "\n",
        "It combines the simplicity and efficiency of tuples with the readability of named attributes."
      ]
    },
    {
      "cell_type": "code",
      "execution_count": 7,
      "metadata": {
        "id": "FAVZvwLfuoZI",
        "colab": {
          "base_uri": "https://localhost:8080/"
        },
        "outputId": "b39ca816-fc5e-43ff-dd09-b27c7ffd02bd"
      },
      "outputs": [
        {
          "output_type": "stream",
          "name": "stdout",
          "text": [
            "Point coordinates: 10 20\n"
          ]
        }
      ],
      "source": [
        "from collections import namedtuple\n",
        "\n",
        "# Example 1: Creating a simple Point namedtuple\n",
        "Point = namedtuple('Point', ['x', 'y'])\n",
        "p = Point(10, 20)\n",
        "print(\"Point coordinates:\", p.x, p.y)\n",
        "\n",
        "# easy way to store data within a template"
      ]
    },
    {
      "cell_type": "code",
      "execution_count": 8,
      "metadata": {
        "id": "H9S11u0ZuoZI",
        "colab": {
          "base_uri": "https://localhost:8080/"
        },
        "outputId": "38de5b4e-aa88-4b67-c344-86d4a5bf71cd"
      },
      "outputs": [
        {
          "output_type": "stream",
          "name": "stdout",
          "text": [
            "Person details: Person(name='Alice', age=30, city='New York')\n"
          ]
        }
      ],
      "source": [
        "# Example 2: Creating a Person namedtuple\n",
        "Person = namedtuple('Person', ['name', 'age', 'city'])\n",
        "person1 = Person(name='Alice', age=30, city='New York')\n",
        "print(\"Person details:\", person1)"
      ]
    },
    {
      "cell_type": "markdown",
      "source": [
        "What other object does person1 act like?"
      ],
      "metadata": {
        "id": "x_6uiIxCvYzJ"
      }
    },
    {
      "cell_type": "code",
      "source": [
        "type(person1)"
      ],
      "metadata": {
        "id": "SRPwx43rvYlK",
        "colab": {
          "base_uri": "https://localhost:8080/"
        },
        "outputId": "e2dfdce9-7fa6-4be2-de58-d277965a0237"
      },
      "execution_count": 9,
      "outputs": [
        {
          "output_type": "execute_result",
          "data": {
            "text/plain": [
              "__main__.Person"
            ]
          },
          "metadata": {},
          "execution_count": 9
        }
      ]
    },
    {
      "cell_type": "markdown",
      "metadata": {
        "id": "0XS0mc2JuoZI"
      },
      "source": [
        "## `Counter`\n",
        "\n",
        "**When to use it:**\n",
        "\n",
        "- Use `Counter` when you need to count hashable objects. It is particularly useful for counting occurrences in iterables like lists or strings.\n",
        "- It's ideal for tasks like frequency distribution analysis, determining the most common elements, or simply tallying items in a collection.\n",
        "\n",
        "**Key Benefit:**\n",
        "\n",
        "It provides a clean and efficient way to count items, along with several helpful methods to analyze the counts."
      ]
    },
    {
      "cell_type": "code",
      "execution_count": 10,
      "metadata": {
        "id": "-xaIbsQAuoZJ",
        "colab": {
          "base_uri": "https://localhost:8080/"
        },
        "outputId": "3c580d04-4f62-4daa-a0e6-5689df916ea1"
      },
      "outputs": [
        {
          "output_type": "stream",
          "name": "stdout",
          "text": [
            "Character count: Counter({'a': 5, 'b': 2, 'r': 2, 'c': 1, 'd': 1})\n"
          ]
        }
      ],
      "source": [
        "from collections import Counter\n",
        "\n",
        "# Example 1: Counting characters in a string\n",
        "s = \"abracadabra\"\n",
        "char_count = Counter(s)\n",
        "print(\"Character count:\", char_count)\n",
        "\n"
      ]
    },
    {
      "cell_type": "code",
      "execution_count": 11,
      "metadata": {
        "id": "gsGuFL0auoZJ",
        "colab": {
          "base_uri": "https://localhost:8080/"
        },
        "outputId": "caecfb37-bad0-4f2c-93c6-1bc2b5f15fb4"
      },
      "outputs": [
        {
          "output_type": "stream",
          "name": "stdout",
          "text": [
            "Word count: Counter({'apple': 3, 'banana': 2, 'orange': 1})\n"
          ]
        }
      ],
      "source": [
        "# Example 2: Counting words in a list\n",
        "words = [\"apple\", \"banana\", \"apple\", \"orange\", \"banana\", \"apple\"]\n",
        "word_count = Counter(words)\n",
        "print(\"Word count:\", word_count)"
      ]
    },
    {
      "cell_type": "markdown",
      "metadata": {
        "id": "bb8130LruoZJ"
      },
      "source": [
        "## `deque`\n",
        "\n",
        "**When to use it:**\n",
        "\n",
        "- Use `deque` when you need a double-ended queue with fast appends and pops from both ends (O(1) operations).\n",
        "- It is particularly useful for implementing queues, stacks, or performing operations on both ends of a sequence (for example, sliding window algorithms).\n",
        "\n",
        "**Key Benefit:**\n",
        "\n",
        "Its performance characteristics make it an excellent choice for scenarios where you frequently add or remove elements from either end of a collection."
      ]
    },
    {
      "cell_type": "code",
      "execution_count": 12,
      "metadata": {
        "id": "fuIMcdzPuoZJ",
        "colab": {
          "base_uri": "https://localhost:8080/"
        },
        "outputId": "5bed09cd-1e0f-4dde-c4d4-522cc916893f"
      },
      "outputs": [
        {
          "output_type": "stream",
          "name": "stdout",
          "text": [
            "Deque after appends: ['z', 'a', 'b']\n",
            "Deque after pops: ['a']\n"
          ]
        }
      ],
      "source": [
        "from collections import deque\n",
        "\n",
        "# Example 1: Basic deque operations\n",
        "d = deque()\n",
        "d.append('a')\n",
        "d.append('b')\n",
        "d.appendleft('z')\n",
        "print(\"Deque after appends:\", list(d))\n",
        "\n",
        "d.pop()\n",
        "d.popleft()\n",
        "print(\"Deque after pops:\", list(d))\n",
        "\n"
      ]
    },
    {
      "cell_type": "code",
      "execution_count": 13,
      "metadata": {
        "id": "A2wG6w1IuoZK",
        "colab": {
          "base_uri": "https://localhost:8080/"
        },
        "outputId": "3a7c5bcb-f679-4cd9-a381-ce446af574ab"
      },
      "outputs": [
        {
          "output_type": "stream",
          "name": "stdout",
          "text": [
            "Original deque: [1, 2, 3, 4, 5]\n",
            "Deque after rotating right by 2: [4, 5, 1, 2, 3]\n",
            "Deque after rotating left by 3: [2, 3, 4, 5, 1]\n"
          ]
        }
      ],
      "source": [
        "# Example 2: Rotating a deque\n",
        "d2 = deque([1, 2, 3, 4, 5])\n",
        "print(\"Original deque:\", list(d2))\n",
        "\n",
        "# Rotate right by 2 positions\n",
        "d2.rotate(2)\n",
        "print(\"Deque after rotating right by 2:\", list(d2))\n",
        "\n",
        "# Rotate left by 3 positions\n",
        "d2.rotate(-3)\n",
        "print(\"Deque after rotating left by 3:\", list(d2))"
      ]
    },
    {
      "cell_type": "markdown",
      "metadata": {
        "id": "NK0QpP_ZuoZK"
      },
      "source": [
        "## Conclusion\n",
        "\n",
        "In this notebook, we explored the Python `collections` module with a focus on four useful classes:\n",
        "\n",
        "- **`defaultdict`**: Ideal for automatically handling missing dictionary keys and reducing boilerplate code in grouping or counting tasks.\n",
        "- **`namedtuple`**: Great for creating lightweight, immutable objects with named fields, improving code readability for simple data structures.\n",
        "- **`Counter`**: Perfect for counting occurrences of elements in an iterable, with built-in methods for frequency analysis.\n",
        "- **`deque`**: Best for scenarios that require efficient additions and removals from both ends of a sequence, such as queues, stacks, or sliding window problems.\n",
        "\n",
        "Each of these data structures provides unique advantages that can help optimize and clarify your code when handling specific programming challenges."
      ]
    }
  ],
  "metadata": {
    "kernelspec": {
      "display_name": "Python 3",
      "language": "python",
      "name": "python3"
    },
    "language_info": {
      "name": "python",
      "version": "3.x"
    },
    "colab": {
      "provenance": []
    }
  },
  "nbformat": 4,
  "nbformat_minor": 0
}