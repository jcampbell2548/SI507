{
  "nbformat": 4,
  "nbformat_minor": 0,
  "metadata": {
    "colab": {
      "provenance": []
    },
    "kernelspec": {
      "name": "python3",
      "display_name": "Python 3"
    },
    "language_info": {
      "name": "python"
    }
  },
  "cells": [
    {
      "cell_type": "markdown",
      "source": [
        "#tinyurl.com/CardCatalogExercise\n"
      ],
      "metadata": {
        "id": "ebhbNm7iBO5e"
      }
    },
    {
      "cell_type": "code",
      "execution_count": null,
      "metadata": {
        "id": "AzkulqUG5laB"
      },
      "outputs": [],
      "source": [
        "Data = [('To Kill a Mockingbird', 'Harper Lee', 9780061120084),\n",
        "('Pride and Prejudice', 'Jane Austen', 9780141439518),\n",
        "('1984', 'George Orwell', 9780451524935),\n",
        "('The Great Gatsby', 'F. Scott Fitzgerald', 9780743273565),\n",
        "('Moby-Dick', 'Herman Melville', 9781853260087),\n",
        "('War and Peace', 'Leo Tolstoy', 9780192833983),\n",
        "('The Hobbit', 'J.R.R. Tolkien', 9780547928227)]"
      ]
    },
    {
      "cell_type": "markdown",
      "source": [
        "\n",
        "1. **Class Initialization**:\n",
        "    - Define a class named `Book` with an initializer method (`__init__`) that takes three parameters: `title`, `author`, and `isbn`.\n",
        "    - Inside the initializer method, set the attributes `title`, `author`, and `isbn` to the values passed as parameters.\n",
        "\n",
        "2. **String Representation**:\n",
        "    - Implement a `__str__` method within the `Book` class.\n",
        "    - Within the `__str__` method, return a formatted string that includes the title and author of the book.\n",
        "\n",
        "3. **Test Code**:\n",
        "    - Create objects of the class book with the following title, author and ISBN\n",
        "        -  To Kill a Mockingbird, Harper Lee, 9780061120084\n",
        "        -  Pride and Prejudice, Jane Austen, 9780141439518\n",
        "        -  1984, George Orwell, 9780451524935\n",
        "        -  The Great Gatsby, F. Scott Fitzgerald, 9780743273565\n",
        "        -  Moby-Dick, Herman Melville, 9781853260087\n",
        "        -  War and Peace, Leo Tolstoy, 9780192833983\n",
        "        -  The Hobbit, J.R.R. Tolkien, 9780547928227\n",
        "\n"
      ],
      "metadata": {
        "id": "C5iUSOb_5oVR"
      }
    },
    {
      "cell_type": "code",
      "source": [
        "'''\n",
        "Class Initialization:\n",
        "\n",
        "Define a class named Book with an initializer method (__init__) that takes three parameters: title, author, and isbn.\n",
        "Inside the initializer method, set the attributes title, author, and isbn to the values passed as parameters.\n",
        "String Representation:\n",
        "\n",
        "Implement a __str__ method within the Book class.\n",
        "Within the __str__ method, return a formatted string that includes the title and author of the book.\n",
        "'''\n",
        "class Book:\n",
        "  def __init__(self, title, author, isbn):\n",
        "    self.title = title\n",
        "    self.author = author\n",
        "    self.isbn = isbn\n",
        "  def __str__(self):\n",
        "    return f\"{self.title} by {self.author}\"\n",
        "\n",
        "books = []\n",
        "for d in Data:\n",
        "  books.append( Book(d[0], d[1], d[2])      )\n",
        "\n"
      ],
      "metadata": {
        "id": "k_BKzx--rMT7"
      },
      "execution_count": null,
      "outputs": []
    },
    {
      "cell_type": "code",
      "source": [
        "for b in books:\n",
        "  print(b)"
      ],
      "metadata": {
        "id": "PyDxlVseslaR",
        "colab": {
          "base_uri": "https://localhost:8080/"
        },
        "outputId": "c3e94831-467c-47de-e35e-50dfb8de4d22"
      },
      "execution_count": null,
      "outputs": [
        {
          "output_type": "stream",
          "name": "stdout",
          "text": [
            "To Kill a Mockingbird by Harper Lee\n",
            "Pride and Prejudice by Jane Austen\n",
            "1984 by George Orwell\n",
            "The Great Gatsby by F. Scott Fitzgerald\n",
            "Moby-Dick by Herman Melville\n",
            "War and Peace by Leo Tolstoy\n",
            "The Hobbit by J.R.R. Tolkien\n"
          ]
        }
      ]
    },
    {
      "cell_type": "markdown",
      "source": [
        "Lets implement a Node class that can be used to build a BST\n",
        "\n",
        "1. **Class Initialization**:\n",
        "    - Define a class named `CatalogNode`.\n",
        "    - Implement an initializer method (`__init__`) that takes a parameter named `book`.\n",
        "    - Inside the initializer method, create instance variables `book`, `left`, and `right`.\n",
        "    - Set the `book` instance variable to the value of the `book` parameter.\n",
        "    - Initialize the `left` and `right` instance variables to `None`.\n",
        "\n",
        "2. **Test Initialization**:\n",
        "    - Write test code to create instances of the `CatalogNode` class.\n",
        "    - Create a `Book` object to be used as the parameter for the `CatalogNode` initialization.\n",
        "\n",
        "3. **Printing the Node**:\n",
        "    - Implement a method named `__str__` within the `CatalogNode` class.\n",
        "    - Within the `__str__` method, return a formatted string that includes information about the book stored in the node.\n",
        "\n",
        "4. **Testing the Printing Method**:\n",
        "    - Write test code to create a `CatalogNode` object and print its string representation.\n",
        "    - Verify that the printed output contains the information about the book stored in the node.\n",
        "\n"
      ],
      "metadata": {
        "id": "WBo-5NIv6_BI"
      }
    },
    {
      "cell_type": "code",
      "source": [
        "class CatalogNode:\n",
        "  def __init__(self, book):\n",
        "    self.book = book\n",
        "    self.left = None\n",
        "    self.right = None\n",
        "\n",
        "  def __str__(self):\n",
        "    return f\"{self.book.title} by {self.book.author}\"\n",
        "\n",
        "\n",
        "testCard1 = CatalogNode(books[2])\n",
        "\n",
        "print(testCard1)"
      ],
      "metadata": {
        "id": "U236aGpV6nTG",
        "colab": {
          "base_uri": "https://localhost:8080/"
        },
        "outputId": "c8052500-c358-4c88-e0f9-fade66c39ac3"
      },
      "execution_count": null,
      "outputs": [
        {
          "output_type": "stream",
          "name": "stdout",
          "text": [
            "1984 by George Orwell\n"
          ]
        }
      ]
    },
    {
      "cell_type": "markdown",
      "source": [
        "Use the folowing prompts to build a BST class called Catalog that organizes the CatalogNode you implemented above\n",
        "\n",
        "### Methods and Attributes:\n",
        "\n",
        "1. **Constructor (`__init__`):**\n",
        "   - Initialize an instance of the Catalog class.\n",
        "   - Set the root node of the BST to None initially.\n",
        "\n",
        "2. **Insert Book (`insert_book`):**\n",
        "   - Accepts a book object and inserts it into the catalog.\n",
        "   - If the catalog is empty (root is None), set the root to the new book.\n",
        "   - Otherwise, call a helper function to recursively insert the book based on its ISBN.\n",
        "\n",
        "3. **Recursive Insert Helper (`_insert_recursive`):**\n",
        "   - Recursively insert a book into the catalog based on its ISBN.\n",
        "   - If the ISBN of the new book is less than the ISBN of the current node's book, move to the left subtree.\n",
        "   - If the ISBN of the new book is greater than the ISBN of the current node's book, move to the right subtree.\n",
        "   - If the appropriate subtree is None, create a new node with the book and assign it to that subtree.\n",
        "   - Otherwise, continue traversing recursively.\n",
        "4. **In-Order Traversal (`inorder_traversal`):**\n",
        "   - Initiates an in-order traversal of the binary search tree (BST).\n",
        "   - If the catalog's root is not None (indicating the BST is not empty), call the _inorder_recursive helper method with the root node as its argument.\n",
        "   - consider whether parameters make sense for this method?\n",
        "   - the primary purpose of this method is to print out the book information stored in each node of the BST in sorted order, based on the books' ISBNs.\n",
        "\n",
        "5. **Recursive In-Order Traversal Helper (`_inorder_recursive`):**\n",
        "   - Recursively visits each node in the BST in an in-order sequence (left node, current node, right node) to print the book information.\n",
        "   - What arguments make sense here?\n",
        "   - If current is not None, the method first recursively calls itself with current.left to visit the left subtree. Then, it prints the current node's book information. Finally, it recursively calls itself with current.right to visit the right subtree.\n",
        "   - This method is designed to be called internally by the inorder_traversal method and is not intended to be invoked directly on the Catalog instance.\n",
        "\n",
        "4. **Attributes:**\n",
        "   - `root`: The root node of the binary search tree representing the catalog.\n",
        "\n",
        "You can re-arrange code from the following cell if you are having challenges"
      ],
      "metadata": {
        "id": "cJEXGfbu7Ymf"
      }
    },
    {
      "cell_type": "code",
      "source": [
        "#Fixed Code\n",
        "\n",
        "Data = [('To Kill a Mockingbird', 'Harper Lee', 9780061120084),\n",
        "('Pride and Prejudice', 'Jane Austen', 9780141439518),\n",
        "('1984', 'George Orwell', 9780451524935),\n",
        "('The Great Gatsby', 'F. Scott Fitzgerald', 9780743273565),\n",
        "('Moby-Dick', 'Herman Melville', 9781853260087),\n",
        "('War and Peace', 'Leo Tolstoy', 9780192833983),\n",
        "('The Hobbit', 'J.R.R. Tolkien', 9780547928227)]\n",
        "class Book:\n",
        "  def __init__(self, title, author, isbn):\n",
        "    self.title = title\n",
        "    self.author = author\n",
        "    self.isbn = isbn\n",
        "  def __str__(self):\n",
        "    return f\"{self.title} by {self.author}\"\n",
        "\n",
        "books = []\n",
        "for d in Data:\n",
        "  books.append( Book(d[0], d[1], d[2])      )\n",
        "\n",
        "class CatalogNode:\n",
        "  def __init__(self, book):\n",
        "    self.book = book\n",
        "    self.left = None\n",
        "    self.right = None\n",
        "\n",
        "  def __str__(self):\n",
        "    return f\"{self.book.title} by {self.book.author}\"\n",
        "\n",
        "\n",
        "class Catalog:\n",
        "    def __init__(self):\n",
        "        self.root = None\n",
        "\n",
        "    def insert_book(self, book):\n",
        "      if self.root is None:\n",
        "        self.root = CatalogNode(book)\n",
        "      else:\n",
        "        self._insert_recursive(self.root, book)\n",
        "      '''\n",
        "      #equivalent with flipped syntax\n",
        "      if self.root:\n",
        "        self._insert_recursive(self.root, book)\n",
        "      else:\n",
        "        self.root = CatalogNode(Book)\n",
        "      '''\n",
        "    def _insert_recursive(self, current, book):\n",
        "      if book.isbn < current.book.isbn:\n",
        "        if current.left is None:\n",
        "          current.left = CatalogNode(book)\n",
        "\n",
        "        else:\n",
        "          self._insert_recursive(current.left, book)\n",
        "\n",
        "      elif book.isbn > current.book.isbn:\n",
        "          if current.right is None:\n",
        "            current.right = CatalogNode(book)\n",
        "          else:\n",
        "            self._insert_recursive(current.right, book)\n",
        "\n",
        "\n",
        "    def inorder_traversal(self):\n",
        "      if self.root:\n",
        "        self._inorder_recursive(self.root)\n",
        "\n",
        "    def _inorder_recursive(self, current):\n",
        "      if current:\n",
        "        self._inorder_recursive(current.left)\n",
        "        print(current.book)\n",
        "        self._inorder_recursive(current.right)\n",
        "\n",
        "\n",
        "    def search_book(self, isbn):\n",
        "      if self.root:\n",
        "        return self._search_recursive(self.root, isbn)\n",
        "      return None\n",
        "\n",
        "    def _search_recursive(self, current, isbn):\n",
        "      if current is None or current.book.isbn == isbn:\n",
        "        return current\n",
        "\n",
        "      if isbn < current.book.isbn:\n",
        "        return self._search_recursive(current.left, isbn)\n",
        "\n",
        "      return self._search_recursive(current.right, isbn)\n",
        "\n",
        "\n",
        "\n",
        "catalog = Catalog()\n",
        "\n",
        "for x in books:\n",
        "  catalog.insert_book(x)\n",
        "\n"
      ],
      "metadata": {
        "id": "3xGlG4pXXGlB"
      },
      "execution_count": null,
      "outputs": []
    },
    {
      "cell_type": "code",
      "source": [
        "\n",
        "print(\"In-order traversal of the catalog:\")\n",
        "catalog.inorder_traversal()\n",
        "print(\"    \")\n",
        "# Search for a book by ISBN\n",
        "search_isbn = 9780743273565\n",
        "result = catalog.search_book(search_isbn)\n",
        "if result:\n",
        "    print(f\"Book found: {result.book}\")\n",
        "else:\n",
        "    print(f\"Book with ISBN {search_isbn} not found in the catalog.\")\n"
      ],
      "metadata": {
        "id": "D1dcphShX5yZ",
        "outputId": "66e5b99c-d082-4efc-abf3-78655218291c",
        "colab": {
          "base_uri": "https://localhost:8080/"
        }
      },
      "execution_count": null,
      "outputs": [
        {
          "output_type": "stream",
          "name": "stdout",
          "text": [
            "In-order traversal of the catalog:\n",
            "To Kill a Mockingbird by Harper Lee\n",
            "Pride and Prejudice by Jane Austen\n",
            "War and Peace by Leo Tolstoy\n",
            "1984 by George Orwell\n",
            "The Hobbit by J.R.R. Tolkien\n",
            "The Great Gatsby by F. Scott Fitzgerald\n",
            "Moby-Dick by Herman Melville\n",
            "    \n",
            "Book found: The Great Gatsby by F. Scott Fitzgerald\n"
          ]
        }
      ]
    }
  ]
}