{
 "cells": [
  {
   "cell_type": "markdown",
   "id": "08ca4002-31e1-466c-8ce1-e8e4fa568196",
   "metadata": {},
   "source": [
    "# Understanding linked-list LeetCode problem patterns"
   ]
  },
  {
   "cell_type": "markdown",
   "id": "6dd35ad0-b74b-48c7-8483-8525806ef1ea",
   "metadata": {},
   "source": [
    "## Fast and Slow pointers!!"
   ]
  },
  {
   "cell_type": "markdown",
   "id": "6c7281b2-87d4-4cf4-95f7-ce9bb17df70f",
   "metadata": {},
   "source": [
    "The fast and slow pointers algorithm is a technique often used in problems involving linked lists, arrays, or sequences. It uses two pointers that traverse the data structure at different speeds:\n",
    "\n",
    "**Slow pointer**: Moves one step at a time.\n",
    "\n",
    "**Fast pointer**: Moves two steps at a time.\n",
    "\n",
    "\n",
    "### **Common Use Cases:**\n",
    "\n",
    "**Cycle Detection:** In a linked list, if there is a cycle, the fast pointer will eventually meet the slow pointer inside the cycle. If there’s no cycle, the fast pointer will reach the end of the list.\n",
    "\n",
    "**Middle Element:** To find the middle of a linked list, the slow pointer will reach the middle when the fast pointer reaches the end.\n",
    "\n",
    "**Kth from End:** The slow pointer starts at the beginning, and the fast pointer moves **k** steps ahead. Then, both pointers move one step at a time, and when the fast pointer reaches the end, the slow pointer is **k** elements from the end.\n",
    "\n",
    "The key idea is that the fast pointer moves at a higher speed, allowing it to catch up with the slow pointer when certain conditions are met."
   ]
  },
  {
   "cell_type": "markdown",
   "id": "e70b2100-e92c-470a-b7d7-5cfd9be14b5b",
   "metadata": {},
   "source": [
    "### Question 1:\n",
    "\n",
    "**Given the head of a Singly LinkedList, write a function to determine if the LinkedList has a cycle in it or not.**"
   ]
  },
  {
   "cell_type": "code",
   "execution_count": 1,
   "id": "70f930ee-3ab4-4079-b959-3d7040bf06ce",
   "metadata": {
    "tags": []
   },
   "outputs": [],
   "source": [
    "# Let us first define a basic linked list with a cycle in it. \n",
    "class Node:\n",
    "    def __init__(self, value, next=None):\n",
    "        self.val = value\n",
    "        self.next = next\n",
    "\n",
    "head = Node(1)\n",
    "head.next = Node(2)\n",
    "head.next.next = Node(3)\n",
    "head.next.next.next = Node(4)\n",
    "head.next.next.next.next = Node(5)\n",
    "head.next.next.next.next.next = Node(6)\n",
    "  \n",
    "# Create a cycle in the linked list\n",
    "head.next.next.next.next.next.next = head.next.next"
   ]
  },
  {
   "cell_type": "code",
   "execution_count": 6,
   "id": "372cccd9-bf65-4ecc-9828-ca0cea7f681c",
   "metadata": {
    "tags": []
   },
   "outputs": [
    {
     "name": "stdout",
     "output_type": "stream",
     "text": [
      "True\n"
     ]
    }
   ],
   "source": [
    "def hasCycle(head):\n",
    "    slow, fast = head, head\n",
    "    \n",
    "    while fast and fast.next:\n",
    "        slow = slow.next\n",
    "        fast = fast.next.next\n",
    "        \n",
    "        if slow == fast:\n",
    "            return True\n",
    "    return False\n",
    "        \n",
    "cycle = hasCycle(head)\n",
    "\n",
    "print(cycle)"
   ]
  },
  {
   "cell_type": "markdown",
   "id": "211adf30-c9e7-448f-a380-4fc29843f1d9",
   "metadata": {
    "tags": []
   },
   "source": [
    "### Question 2: \n",
    "\n",
    "**Given the head of a LinkedList with a cycle, find the length of the cycle.**\n",
    "\n",
    "This is continuation from the previous question. Think about how you would further continue to find the cycle length in the linked list. \n",
    "\n",
    "**Hint:** Keep track of the slow pointer when you detect a cycle and write a new function to loop through the cycle with a counter variable. When you loop all the way incrementing the counter for every new node seen and come back to the original slow pointer, the value of the counter variable will be the length of the linked list.  \n"
   ]
  },
  {
   "cell_type": "code",
   "execution_count": 8,
   "id": "6cfc8107-46b1-46e6-a17c-3ae24613ba1c",
   "metadata": {},
   "outputs": [
    {
     "data": {
      "text/plain": [
       "4"
      ]
     },
     "execution_count": 8,
     "metadata": {},
     "output_type": "execute_result"
    }
   ],
   "source": [
    "def findCycleLength(head):\n",
    "    slow, fast = head, head\n",
    "    \n",
    "    while fast and fast.next:\n",
    "        slow = slow.next\n",
    "        fast = fast.next.next\n",
    "        \n",
    "        if slow == fast:\n",
    "            return calculate_cycle_length(slow)\n",
    "        \n",
    "    return 0\n",
    "    \n",
    "\n",
    "def calculate_cycle_length(slow):\n",
    "    cycle_length = 0 \n",
    "    temp = slow\n",
    "    \n",
    "    while True:\n",
    "        temp = temp.next\n",
    "        cycle_length +=1\n",
    "        if temp == slow:\n",
    "            break\n",
    "    return cycle_length\n",
    "\n",
    "cycle_length = findCycleLength(head)\n",
    "cycle_length"
   ]
  },
  {
   "cell_type": "markdown",
   "id": "139bce6b-dc9d-4449-84d0-b567390d4a6b",
   "metadata": {},
   "source": [
    "### Question 3: \n",
    "\n",
    "**Given the head of a Singly LinkedList, write a method to return the middle node of the LinkedList.**\n",
    "\n",
    "If the total number of nodes in the LinkedList is even, return the second middle node."
   ]
  },
  {
   "cell_type": "code",
   "execution_count": 4,
   "id": "30067f67-ec9e-409b-ab16-7ee98fdb5fb1",
   "metadata": {
    "tags": []
   },
   "outputs": [],
   "source": [
    "def findMiddle(head):\n",
    "    slow, fast = head, head\n",
    "    \n",
    "    while fast and fast.next:\n",
    "        slow = slow.next\n",
    "        fast = fast.next.next\n",
    "    return slow\n"
   ]
  },
  {
   "cell_type": "markdown",
   "id": "d8d8da8a-5426-406a-acfc-a32d0d830b1d",
   "metadata": {
    "tags": []
   },
   "source": [
    "### Question 4: \n",
    "\n",
    "**Given the head of a Singly LinkedList that contains a cycle, write a function to find the starting node of the cycle.**"
   ]
  },
  {
   "cell_type": "code",
   "execution_count": 14,
   "id": "a402b23e-efbc-4b61-adec-b72dd50f92b0",
   "metadata": {
    "tags": []
   },
   "outputs": [],
   "source": [
    "def find_start_cycle(cycle_length, head):\n",
    "    pointer1 = head\n",
    "    pointer2 = head\n",
    "    \n",
    "    while cycle_length > 0:\n",
    "        pointer2 = pointer2.next\n",
    "        cycle_length -=1\n",
    "    \n",
    "    while pointer1 != pointer2:\n",
    "        pointer1 = pointer1.next\n",
    "        pointer2 = pointer2.next\n",
    "    return pointer1\n",
    "\n",
    "def find_start(head):\n",
    "    slow, fast = head, head\n",
    "    \n",
    "    while fast and fast.next:\n",
    "        slow = slow.next\n",
    "        fast = fast.next.next\n",
    "        \n",
    "        if slow == fast:\n",
    "            cycle_length = calculate_cycle_length(slow)\n",
    "            break\n",
    "    return find_start_cycle(cycle_length, head)\n",
    "\n"
   ]
  },
  {
   "cell_type": "markdown",
   "id": "5e313e7a-5b95-4a0c-8398-adad9d940259",
   "metadata": {
    "tags": []
   },
   "source": [
    "# Prolems based on reversing linked lists.\n",
    "\n",
    "### Question 5: \n",
    "\n",
    "**Given the head of a Singly LinkedList, reverse the LinkedList. Write a function to return the new head of the reversed LinkedList.**\n"
   ]
  },
  {
   "cell_type": "code",
   "execution_count": 11,
   "id": "db7b7206-c416-4401-99ad-863e46b164a4",
   "metadata": {
    "tags": []
   },
   "outputs": [],
   "source": [
    "def reverse(head):\n",
    "    curr, prev, next = head, None, None\n",
    "    \n",
    "    while curr:\n",
    "        next = curr.next\n",
    "        curr.next = prev\n",
    "        prev = curr\n",
    "        curr = next\n",
    "    return prev\n",
    "        "
   ]
  },
  {
   "cell_type": "markdown",
   "id": "db5abf96-03c2-4d79-b228-7ecd126d9ca6",
   "metadata": {},
   "source": [
    "### Question 6: \n",
    "\n",
    "**Given the head of a LinkedList and two positions ‘p’ and ‘q’, reverse the LinkedList from position ‘p’ to ‘q’.**\n"
   ]
  },
  {
   "cell_type": "code",
   "execution_count": 19,
   "id": "fcbd1073-8819-498e-8ee8-2fab76e8e162",
   "metadata": {
    "tags": []
   },
   "outputs": [],
   "source": [
    "def reverse(head, p, q):\n",
    "    if p == q:\n",
    "        return head\n",
    "    \n",
    "    curr, prev = head, None\n",
    "    i = 0\n",
    "    while curr and i < p-1:\n",
    "        prev = curr\n",
    "        curr = curr.next\n",
    "        i += 1\n",
    "    \n",
    "    last_node_of_first_part = prev \n",
    "    last_node_of_sub_list = curr\n",
    "    \n",
    "    i = 0\n",
    "    \n",
    "    while curr and i < q-p+1:\n",
    "        next = curr.next\n",
    "        curr.next = prev\n",
    "        prev = curr\n",
    "        curr = next\n",
    "        i+= 1\n",
    "        \n",
    "    if last_node_of_first_part is not None:\n",
    "        last_node_of_first_part.next = prev\n",
    "    else:\n",
    "        head = prev\n",
    "        \n",
    "    last_node_of_sub_list.next = curr\n",
    "    return head\n",
    "        "
   ]
  },
  {
   "cell_type": "markdown",
   "id": "ad26a83a-2c64-4066-96e7-2e02d11e56fb",
   "metadata": {},
   "source": [
    "### Question 7: \n",
    "\n",
    "**Given the head of a Singly LinkedList, write a method to check if the LinkedList is a palindrome or not.**\n",
    "\n",
    "**Input:** 2 -> 4 -> 6 -> 4 -> 2 -> null\n",
    "\n",
    "**Output:** true"
   ]
  },
  {
   "cell_type": "code",
   "execution_count": 7,
   "id": "d0cfeb65-536b-4020-9035-bd35c9ff421f",
   "metadata": {
    "tags": []
   },
   "outputs": [],
   "source": [
    "def is_palindrome(head):\n",
    "    if head is None or head.next is None:\n",
    "        return True\n",
    "\n",
    "    # find middle of the LinkedList\n",
    "    slow, fast = head, head\n",
    "    while (fast is not None and fast.next is not None):\n",
    "        slow = slow.next\n",
    "        fast = fast.next.next\n",
    "\n",
    "    head_second_half = self.reverse(slow)  # reverse the second half\n",
    "    # store the head of reversed part to revert back later\n",
    "    copy_head_second_half = head_second_half\n",
    "\n",
    "    # compare the first and the second half\n",
    "    while (head is not None and head_second_half is not None):\n",
    "        if head.val != head_second_half.val:\n",
    "            break  # not a palindrome\n",
    "        head = head.next\n",
    "        head_second_half = head_second_half.next\n",
    "\n",
    "    self.reverse(copy_head_second_half)  # revert the reverse of the second half\n",
    "\n",
    "    if head is None or head_second_half is None:  # if both halves match\n",
    "        return True\n",
    "\n",
    "    return False\n",
    "\n",
    "def reverse(self, head):\n",
    "    prev = None\n",
    "    while (head is not None):\n",
    "        next = head.next\n",
    "        head.next = prev\n",
    "        prev = head\n",
    "        head = next\n",
    "    return prev"
   ]
  },
  {
   "cell_type": "markdown",
   "id": "b8c7d51d-9bc8-4204-b02a-68900da72e71",
   "metadata": {},
   "source": [
    "### Question 8: \n",
    "\n",
    "**Given the head of a Singly LinkedList, write a method to modify the LinkedList such that the nodes from the second half of the LinkedList are inserted alternately to the nodes from the first half in reverse order.**\n",
    "\n",
    "**Input:** 2 -> 4 -> 6 -> 8 -> 10 -> 12 -> null\n",
    "\n",
    "**Output:** 2 -> 12 -> 4 -> 10 -> 6 -> 8 -> null "
   ]
  },
  {
   "cell_type": "code",
   "execution_count": null,
   "id": "9d15b41a-54a6-43b9-9e3e-91d749e67178",
   "metadata": {},
   "outputs": [],
   "source": [
    "def reorder(head):\n",
    "    pass"
   ]
  }
 ],
 "metadata": {
  "kernelspec": {
   "display_name": "Python 3 (ipykernel)",
   "language": "python",
   "name": "python3"
  },
  "language_info": {
   "codemirror_mode": {
    "name": "ipython",
    "version": 3
   },
   "file_extension": ".py",
   "mimetype": "text/x-python",
   "name": "python",
   "nbconvert_exporter": "python",
   "pygments_lexer": "ipython3",
   "version": "3.11.4"
  }
 },
 "nbformat": 4,
 "nbformat_minor": 5
}
