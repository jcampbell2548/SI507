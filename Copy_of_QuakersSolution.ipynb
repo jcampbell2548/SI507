{
  "nbformat": 4,
  "nbformat_minor": 0,
  "metadata": {
    "colab": {
      "provenance": []
    },
    "kernelspec": {
      "name": "python3",
      "display_name": "Python 3"
    },
    "language_info": {
      "name": "python"
    }
  },
  "cells": [
    {
      "cell_type": "code",
      "source": [
        "!git clone https://github.com/umsi-amadaman/Quaker.git"
      ],
      "metadata": {
        "colab": {
          "base_uri": "https://localhost:8080/"
        },
        "id": "ThHsGxrRqrKY",
        "outputId": "09645c4b-d2ae-4b84-fa88-e0ef2c1bdad8"
      },
      "execution_count": null,
      "outputs": [
        {
          "output_type": "stream",
          "name": "stdout",
          "text": [
            "Cloning into 'Quaker'...\n",
            "remote: Enumerating objects: 7, done.\u001b[K\n",
            "remote: Counting objects: 100% (7/7), done.\u001b[K\n",
            "remote: Compressing objects: 100% (7/7), done.\u001b[K\n",
            "remote: Total 7 (delta 0), reused 0 (delta 0), pack-reused 0 (from 0)\u001b[K\n",
            "Receiving objects: 100% (7/7), 5.45 KiB | 5.45 MiB/s, done.\n"
          ]
        }
      ]
    },
    {
      "cell_type": "code",
      "source": [
        "class Vertex:\n",
        "  def __init__(self, key):\n",
        "    self.id = key\n",
        "    self.connectedTo = {}\n",
        "    self.degree = 0\n",
        "  def addNeighbor(self, nbr, weight=0):\n",
        "    self.connectedTo[nbr] = weight\n",
        "  def getId(self):\n",
        "    return self.id\n",
        "  def getWeight(self, nbr):\n",
        "    return self.connectedTo[nbr]\n",
        "  def getConnections(self):\n",
        "    return self.connectedTo.keys()\n",
        "  def calcDegree(self):\n",
        "     self.degree = len(self.connectedTo.keys())\n",
        "\n",
        "  def __str__(self):\n",
        "    #return str(self.id) + ‘is connected to ‘ + str((x.id, x.weight) for x in self.connectedTo)\n",
        "    return str(self.id) + ' connectedTo: ' + str([x.id for x in self.connectedTo])\n",
        "\n",
        "class Graph:\n",
        "    def __init__(self):\n",
        "        self.vertList = {}\n",
        "        self.numVertices = 0\n",
        "\n",
        "    def addVertex(self,key):\n",
        "        self.numVertices = self.numVertices + 1\n",
        "        newVertex = Vertex(key)\n",
        "        self.vertList[key] = newVertex\n",
        "        return newVertex\n",
        "\n",
        "    def getVertex(self,n):\n",
        "        if n in self.vertList:\n",
        "            return self.vertList[n]\n",
        "        else:\n",
        "            return None\n",
        "\n",
        "    def __contains__(self,n):\n",
        "        return n in self.vertList\n",
        "\n",
        "    def addEdge(self,f,t,weight=0):\n",
        "        if f not in self.vertList:\n",
        "            nv = self.addVertex(f)\n",
        "        if t not in self.vertList:\n",
        "            nv = self.addVertex(t)\n",
        "        self.vertList[f].addNeighbor(self.vertList[t], weight)\n",
        "\n",
        "    def getVertices(self):\n",
        "        return self.vertList.keys()\n",
        "\n",
        "    def __iter__(self):\n",
        "        return iter(self.vertList.values())"
      ],
      "metadata": {
        "id": "Tqjn5MPmo-Im"
      },
      "execution_count": null,
      "outputs": []
    },
    {
      "cell_type": "markdown",
      "source": [
        "- Open the file\n",
        "- Read the csv\n",
        "    - Retrieve the data (using Python list comprhension and list slicing to remove the header row, see footnote 3)\n",
        "\n",
        "\n",
        " - Get a list of only the node names\n",
        " - get a list of the edges"
      ],
      "metadata": {
        "id": "kiERCkiaBWWD"
      }
    },
    {
      "cell_type": "code",
      "execution_count": null,
      "metadata": {
        "id": "0IIjyjVHLyml"
      },
      "outputs": [],
      "source": [
        "import csv\n",
        "with open('/content/Quaker/quakers_vertexlist.csv', 'r') as vertexcsv: # Open the file\n",
        "    vertexreader = csv.reader(vertexcsv) # Read the csv\n",
        "    # Retrieve the data (using Python list comprhension and list slicing to remove the header row, see footnote 3)\n",
        "    vertices = [v for v in vertexreader][1:]\n",
        "\n",
        "vertex_names = [v[0] for v in vertices] # Get a list of only the node names\n",
        "\n",
        "with open('/content/Quaker/quakers_edgelist.csv', 'r') as edgecsv: # Open the file\n",
        "    edgereader = csv.reader(edgecsv) # Read the csv\n",
        "    edges = [tuple(e) for e in edgereader][1:] # Retrieve the data\n",
        "\n",
        "\n"
      ]
    },
    {
      "cell_type": "code",
      "source": [
        "g = Graph()\n",
        "for i in range(5):\n",
        "    g.addVertex(i)\n",
        "g.addEdge(0,1,5)\n",
        "g.addEdge(0,5,2)"
      ],
      "metadata": {
        "id": "1B3FXm2drumH"
      },
      "execution_count": null,
      "outputs": []
    },
    {
      "cell_type": "code",
      "source": [
        "quakers = Graph()\n",
        "for v in vertex_names:\n",
        "    quakers.addVertex(v)\n",
        "for origin, dest in edges:\n",
        "    quakers.addEdge(origin, dest)\n",
        "\n"
      ],
      "metadata": {
        "id": "SgbWpyDLL4Im"
      },
      "execution_count": null,
      "outputs": []
    },
    {
      "cell_type": "code",
      "source": [
        "### Find the most connected Quaker\n",
        "# def calcDegree(self):\n",
        "#   self.degree = len(self.connectedTo.keys())"
      ],
      "metadata": {
        "id": "98GBlKLYtbA_"
      },
      "execution_count": null,
      "outputs": []
    },
    {
      "cell_type": "code",
      "source": [
        "quakers.vertList['William Penn'].connectedTo"
      ],
      "metadata": {
        "colab": {
          "base_uri": "https://localhost:8080/"
        },
        "id": "Lwmq120XGngG",
        "outputId": "81ee6402-a681-497e-80e2-b51df4e1e4db"
      },
      "execution_count": null,
      "outputs": [
        {
          "output_type": "execute_result",
          "data": {
            "text/plain": [
              "{<__main__.Vertex at 0x79e60448d5a0>: 0,\n",
              " <__main__.Vertex at 0x79e60448f6a0>: 0,\n",
              " <__main__.Vertex at 0x79e604470cd0>: 0,\n",
              " <__main__.Vertex at 0x79e60448ca60>: 0,\n",
              " <__main__.Vertex at 0x79e60448fd00>: 0,\n",
              " <__main__.Vertex at 0x79e60448d4b0>: 0,\n",
              " <__main__.Vertex at 0x79e60448da20>: 0}"
            ]
          },
          "metadata": {},
          "execution_count": 7
        }
      ]
    },
    {
      "cell_type": "code",
      "source": [
        "from collections import deque\n",
        "\n",
        "def BFS(graph, start_vertex):\n",
        "    # Initialize the discovered list for all vertices in the graph\n",
        "    discovered = {key: False for key in graph.getVertices()}\n",
        "    queue = deque([start_vertex])\n",
        "    discovered[start_vertex] = True\n",
        "\n",
        "    while queue:\n",
        "        current_vertex = queue.popleft()\n",
        "        print(f\"Visited {current_vertex}\")\n",
        "\n",
        "        # Access each neighbor of the current vertex\n",
        "        for neighbor in graph.vertList[current_vertex].connectedTo:\n",
        "            neighbor_id = neighbor.getId()\n",
        "\n",
        "            # If the neighbor hasn't been discovered yet, visit it\n",
        "            if not discovered[neighbor_id]:\n",
        "                discovered[neighbor_id] = True\n",
        "                queue.append(neighbor_id)\n",
        "\n",
        "g = Graph()\n",
        "for i in range(6):\n",
        "    g.addVertex(i)\n",
        "g.addEdge(2, 0, 3)\n",
        "g.addEdge(2, 3, 4)\n",
        "g.addEdge(2, 4, 1)\n",
        "g.addEdge(0, 1, 5)\n",
        "g.addEdge(0, 5, 2)\n",
        "\n",
        "# Perform BFS from vertex 2\n",
        "BFS(g, 2)"
      ],
      "metadata": {
        "id": "19-DZeVAGmXa",
        "colab": {
          "base_uri": "https://localhost:8080/"
        },
        "outputId": "3418152c-a911-48f6-c70f-365146866de9"
      },
      "execution_count": null,
      "outputs": [
        {
          "output_type": "stream",
          "name": "stdout",
          "text": [
            "Visited 2\n",
            "Visited 0\n",
            "Visited 3\n",
            "Visited 4\n",
            "Visited 1\n",
            "Visited 5\n"
          ]
        }
      ]
    },
    {
      "cell_type": "code",
      "source": [
        "ConnectedQuakers ={}\n",
        "for key in quakers.vertList.keys():\n",
        "  #print(keys)\n",
        "  quakers.vertList[key].calcDegree()\n",
        "  #print(key, quakers.vertList[key].degree)\n",
        "  ConnectedQuakers[key] = quakers.vertList[key].degree\n",
        "\n",
        "ConnectedQuakers\n",
        "\n",
        "Connected_Quakers_Sorted = dict(sorted(ConnectedQuakers.items(), key=lambda item:item[1], reverse=True))"
      ],
      "metadata": {
        "id": "A0hZOv2gwAa6"
      },
      "execution_count": null,
      "outputs": []
    },
    {
      "cell_type": "code",
      "source": [
        "ConnectedQuakers"
      ],
      "metadata": {
        "colab": {
          "base_uri": "https://localhost:8080/"
        },
        "id": "4I2fSS-1LfQ6",
        "outputId": "0090a4b9-ca05-41d6-8973-9c85f733bb87"
      },
      "execution_count": null,
      "outputs": [
        {
          "output_type": "execute_result",
          "data": {
            "text/plain": [
              "{'Joseph Wyeth': 1,\n",
              " 'Alexander Skene of Newtyle': 1,\n",
              " 'James Logan': 3,\n",
              " 'Dorcas Erbery': 1,\n",
              " 'Lilias Skene': 0,\n",
              " 'William Mucklow': 1,\n",
              " 'Thomas Salthouse': 1,\n",
              " 'William Dewsbury': 3,\n",
              " 'John Audland': 6,\n",
              " 'Richard Claridge': 0,\n",
              " 'William Bradford': 2,\n",
              " 'Fettiplace Bellers': 0,\n",
              " 'John Bellers': 1,\n",
              " 'Isabel Yeamans': 1,\n",
              " 'George Fox the younger': 1,\n",
              " 'George Fox': 17,\n",
              " 'John Stubbs': 4,\n",
              " 'Anne Camm': 0,\n",
              " 'John Camm': 3,\n",
              " 'Thomas Camm': 2,\n",
              " 'Katharine Evans': 1,\n",
              " 'Lydia Lancaster': 1,\n",
              " 'Samuel Clarridge': 1,\n",
              " 'Thomas Lower': 1,\n",
              " 'Gervase Benson': 1,\n",
              " 'Stephen Crisp': 2,\n",
              " 'James Claypoole': 0,\n",
              " 'Thomas Holme': 0,\n",
              " 'John Freame': 1,\n",
              " 'John Swinton': 1,\n",
              " 'William Mead': 1,\n",
              " 'Henry Pickworth': 1,\n",
              " 'John Crook': 2,\n",
              " 'Gilbert Latey': 2,\n",
              " 'Ellis Hookes': 0,\n",
              " 'Joseph Besse': 2,\n",
              " 'James Nayler': 12,\n",
              " 'Elizabeth Hooten': 0,\n",
              " 'George Whitehead': 6,\n",
              " 'John Whitehead': 0,\n",
              " 'William Crouch': 0,\n",
              " 'Benjamin Furly': 4,\n",
              " 'Silvanus Bevan': 1,\n",
              " 'Robert Rich': 1,\n",
              " 'John Whiting': 1,\n",
              " 'Christopher Taylor': 0,\n",
              " 'Thomas Lawson': 2,\n",
              " 'Richard Farnworth': 3,\n",
              " 'William Coddington': 0,\n",
              " 'Thomas Taylor': 1,\n",
              " 'Richard Vickris': 1,\n",
              " 'Robert Barclay': 1,\n",
              " 'Jane Sowle': 1,\n",
              " 'Tace Sowle': 0,\n",
              " 'Leonard Fell': 0,\n",
              " 'Margaret Fell': 3,\n",
              " 'George Bishop': 0,\n",
              " 'Elizabeth Leavens': 1,\n",
              " 'Thomas Curtis': 3,\n",
              " 'Alice Curwen': 0,\n",
              " 'Alexander Parker': 1,\n",
              " 'John Wilkinson': 4,\n",
              " 'Thomas Aldam': 1,\n",
              " 'David Barclay of Ury': 0,\n",
              " 'David Barclay': 0,\n",
              " 'Sir Charles Wager': 0,\n",
              " 'George Keith': 8,\n",
              " 'James Parnel': 2,\n",
              " 'Peter Collinson': 2,\n",
              " 'Franciscus Mercurius van Helmont': 1,\n",
              " 'William Caton': 1,\n",
              " 'Francis Howgill': 6,\n",
              " 'Richard Hubberthorne': 2,\n",
              " 'William Ames': 1,\n",
              " 'William Rogers': 2,\n",
              " 'Isaac Norris': 1,\n",
              " 'Anthony Sharp': 3,\n",
              " 'Mary Fisher': 2,\n",
              " 'Anne Conway Viscountess Conway and Killultagh': 0,\n",
              " 'Samuel Fisher': 0,\n",
              " 'Francis Bugg': 1,\n",
              " 'Sarah Gibbons': 1,\n",
              " 'William Tomlinson': 0,\n",
              " 'Humphrey Norton': 1,\n",
              " 'William Gibson': 1,\n",
              " 'Gideon Wanton': 1,\n",
              " 'John Wanton': 0,\n",
              " 'Grace Chamber': 0,\n",
              " 'Mary Prince': 1,\n",
              " 'John Bartram': 0,\n",
              " 'Edward Haistwell': 1,\n",
              " 'John ap John': 1,\n",
              " 'John Rous': 0,\n",
              " 'Anthony Pearson': 0,\n",
              " 'Solomon Eccles': 1,\n",
              " 'John Burnyeat': 2,\n",
              " 'Edward Burrough': 3,\n",
              " 'Rebecca Travers': 2,\n",
              " 'William Edmundson': 0,\n",
              " 'Sarah Cheevers': 0,\n",
              " 'Edward Pyott': 0,\n",
              " 'Daniel Quare': 0,\n",
              " 'John Penington': 1,\n",
              " 'Mary Penington': 2,\n",
              " 'Charles Marshall': 0,\n",
              " 'Humphrey Woolrich': 1,\n",
              " 'William Penn': 7,\n",
              " 'Mary Pennyman': 0,\n",
              " 'Dorothy Waugh': 0,\n",
              " 'David Lloyd': 0,\n",
              " 'Lewis Morris': 1,\n",
              " 'Martha Simmonds': 2,\n",
              " 'John Story': 1,\n",
              " 'Thomas Story': 0,\n",
              " 'Thomas Ellwood': 0,\n",
              " 'William Simpson': 0,\n",
              " 'Samuel Bownas': 0,\n",
              " 'John Perrot': 0,\n",
              " 'Hannah Stranger': 0}"
            ]
          },
          "metadata": {},
          "execution_count": 17
        }
      ]
    },
    {
      "cell_type": "code",
      "source": [
        "from collections import deque\n",
        "\n",
        "# a modified BFS is adapted to keep track of all the paths from a start vertex to all the other vertices\n",
        "# this allows identifying all the shortest paths and the number\n",
        "# presence on those shortest paths is measured as betweenness centrality\n",
        "\n",
        "def BFS(graph, start_vertex, distances, predecessors, path_counts):\n",
        "    # Initialize the BFS queue with the start vertex\n",
        "    distances[start_vertex] = 0\n",
        "    path_counts[start_vertex] = 1\n",
        "    queue = deque([start_vertex])\n",
        "\n",
        "    while queue:\n",
        "        # Dequeue the next vertex to process\n",
        "        current_vertex = queue.popleft()\n",
        "\n",
        "        # Iterate over all neighbors of the current vertex\n",
        "        for neighbor in graph.vertList[current_vertex].connectedTo:\n",
        "            neighbor_id = neighbor.getId()\n",
        "\n",
        "            # Check if this neighbor has been discovered by checking its distance\n",
        "            if distances[neighbor_id] == -1:\n",
        "                # Mark the neighbor as discovered and add it to the queue\n",
        "                distances[neighbor_id] = distances[current_vertex] + 1\n",
        "                queue.append(neighbor_id)\n",
        "\n",
        "            # If this neighbor is exactly one level deeper, count the path\n",
        "            if distances[neighbor_id] == distances[current_vertex] + 1:\n",
        "                # Add the current vertex as a predecessor for dependency calculations\n",
        "                predecessors[neighbor_id].append(current_vertex)\n",
        "                # Accumulate the number of shortest paths leading to this neighbor\n",
        "                path_counts[neighbor_id] += path_counts[current_vertex]\n",
        "\n",
        "def calculate_betweenness_centrality(graph):\n",
        "    betweenness_centrality = {v: 0.0 for v in graph.vertList}\n",
        "    vertices = list(graph.vertList.keys())\n",
        "    n = len(vertices)\n",
        "\n",
        "    # Loop through each vertex to treat it as the source\n",
        "    for node in vertices:\n",
        "        # Initialize BFS-related dictionaries\n",
        "        distances = {v: -1 for v in vertices}  # Distance from the source\n",
        "        predecessors = {v: [] for v in vertices}  # Predecessors in shortest paths\n",
        "        path_counts = {v: 0 for v in vertices}  # Number of shortest paths to each vertex\n",
        "\n",
        "        # Perform BFS to calculate shortest paths from 'node'\n",
        "        BFS(graph, node, distances, predecessors, path_counts)\n",
        "\n",
        "        # Dependency accumulation phase to calculate betweenness\n",
        "        dependency = {v: 0.0 for v in vertices}\n",
        "        # Process each vertex in reverse distance order\n",
        "        for current_vertex in reversed(vertices):\n",
        "            # Propagate dependencies back to predecessors\n",
        "            for predecessor in predecessors[current_vertex]:\n",
        "                ratio = path_counts[predecessor] / path_counts[current_vertex]\n",
        "                dependency[predecessor] += ratio * (1 + dependency[current_vertex])\n",
        "            # Accumulate the betweenness score for non-source vertices\n",
        "            if current_vertex != node:\n",
        "                betweenness_centrality[current_vertex] += dependency[current_vertex]\n",
        "\n",
        "    # Optional normalization for undirected graphs\n",
        "    '''\n",
        "    if n > 2:\n",
        "        scale = 1.0 / ((n - 1) * (n - 2))\n",
        "        for vertex in betweenness_centrality:\n",
        "            betweenness_centrality[vertex] *= scale\n",
        "    '''\n",
        "\n",
        "    return betweenness_centrality\n",
        "\n",
        "\n",
        "# Example graph\n",
        "graph = Graph()\n",
        "graph.addEdge('A', 'B')\n",
        "graph.addEdge('A', 'C')\n",
        "graph.addEdge('B', 'D')\n",
        "graph.addEdge('C', 'D')\n",
        "graph.addEdge('D', 'E')\n",
        "\n",
        "betweenness_centrality = calculate_betweenness_centrality(graph)\n",
        "\n",
        "# Print the betweenness centrality values\n",
        "for node, centrality in betweenness_centrality.items():\n",
        "    print(f\"{node}: Betweenness Centrality = {centrality}\")\n",
        "\n",
        "\n",
        "\n"
      ],
      "metadata": {
        "id": "teSBJ18dITsd",
        "colab": {
          "base_uri": "https://localhost:8080/"
        },
        "outputId": "46709a79-54b7-495a-f516-5e3a964a6f21"
      },
      "execution_count": null,
      "outputs": [
        {
          "output_type": "stream",
          "name": "stdout",
          "text": [
            "A: Betweenness Centrality = 0.0\n",
            "B: Betweenness Centrality = 1.0\n",
            "C: Betweenness Centrality = 1.0\n",
            "D: Betweenness Centrality = 3.0\n",
            "E: Betweenness Centrality = 0.0\n"
          ]
        }
      ]
    },
    {
      "cell_type": "code",
      "source": [
        "QuakerCentrality = calculate_betweenness_centrality(quakers)\n",
        "\n",
        "# Print the betweenness centrality values\n",
        "for node, centrality in QuakerCentrality.items():\n",
        "    print(f\"{node}: Betweenness Centrality = {centrality}\")"
      ],
      "metadata": {
        "colab": {
          "base_uri": "https://localhost:8080/"
        },
        "id": "MabK8AfGLKVo",
        "outputId": "b48d8b58-d0c1-4fa1-8c3e-d86f21b71e46"
      },
      "execution_count": null,
      "outputs": [
        {
          "output_type": "stream",
          "name": "stdout",
          "text": [
            "Joseph Wyeth: Betweenness Centrality = 0.0\n",
            "Alexander Skene of Newtyle: Betweenness Centrality = 0.0\n",
            "James Logan: Betweenness Centrality = 3.0\n",
            "Dorcas Erbery: Betweenness Centrality = 0.0\n",
            "Lilias Skene: Betweenness Centrality = 0.0\n",
            "William Mucklow: Betweenness Centrality = 0.0\n",
            "Thomas Salthouse: Betweenness Centrality = 0.0\n",
            "William Dewsbury: Betweenness Centrality = 0.0\n",
            "John Audland: Betweenness Centrality = 0.0\n",
            "Richard Claridge: Betweenness Centrality = 0.0\n",
            "William Bradford: Betweenness Centrality = 0.5\n",
            "Fettiplace Bellers: Betweenness Centrality = 0.0\n",
            "John Bellers: Betweenness Centrality = 0.0\n",
            "Isabel Yeamans: Betweenness Centrality = 0.0\n",
            "George Fox the younger: Betweenness Centrality = 0.0\n",
            "George Fox: Betweenness Centrality = 150.44047619047618\n",
            "John Stubbs: Betweenness Centrality = 20.5\n",
            "Anne Camm: Betweenness Centrality = 0.0\n",
            "John Camm: Betweenness Centrality = 1.3333333333333333\n",
            "Thomas Camm: Betweenness Centrality = 2.3333333333333335\n",
            "Katharine Evans: Betweenness Centrality = 0.0\n",
            "Lydia Lancaster: Betweenness Centrality = 0.0\n",
            "Samuel Clarridge: Betweenness Centrality = 1.0\n",
            "Thomas Lower: Betweenness Centrality = 0.0\n",
            "Gervase Benson: Betweenness Centrality = 0.0\n",
            "Stephen Crisp: Betweenness Centrality = 0.5\n",
            "James Claypoole: Betweenness Centrality = 0.0\n",
            "Thomas Holme: Betweenness Centrality = 0.0\n",
            "John Freame: Betweenness Centrality = 0.0\n",
            "John Swinton: Betweenness Centrality = 0.0\n",
            "William Mead: Betweenness Centrality = 0.0\n",
            "Henry Pickworth: Betweenness Centrality = 0.0\n",
            "John Crook: Betweenness Centrality = 0.3333333333333333\n",
            "Gilbert Latey: Betweenness Centrality = 0.0\n",
            "Ellis Hookes: Betweenness Centrality = 0.0\n",
            "Joseph Besse: Betweenness Centrality = 0.0\n",
            "James Nayler: Betweenness Centrality = 69.82142857142858\n",
            "Elizabeth Hooten: Betweenness Centrality = 0.0\n",
            "George Whitehead: Betweenness Centrality = 86.4047619047619\n",
            "John Whitehead: Betweenness Centrality = 0.0\n",
            "William Crouch: Betweenness Centrality = 0.0\n",
            "Benjamin Furly: Betweenness Centrality = 44.785714285714285\n",
            "Silvanus Bevan: Betweenness Centrality = 0.0\n",
            "Robert Rich: Betweenness Centrality = 0.0\n",
            "John Whiting: Betweenness Centrality = 0.0\n",
            "Christopher Taylor: Betweenness Centrality = 0.0\n",
            "Thomas Lawson: Betweenness Centrality = 0.0\n",
            "Richard Farnworth: Betweenness Centrality = 5.9523809523809526\n",
            "William Coddington: Betweenness Centrality = 0.0\n",
            "Thomas Taylor: Betweenness Centrality = 0.0\n",
            "Richard Vickris: Betweenness Centrality = 0.0\n",
            "Robert Barclay: Betweenness Centrality = 11.0\n",
            "Jane Sowle: Betweenness Centrality = 0.0\n",
            "Tace Sowle: Betweenness Centrality = 0.0\n",
            "Leonard Fell: Betweenness Centrality = 0.0\n",
            "Margaret Fell: Betweenness Centrality = 107.27380952380952\n",
            "George Bishop: Betweenness Centrality = 0.0\n",
            "Elizabeth Leavens: Betweenness Centrality = 0.0\n",
            "Thomas Curtis: Betweenness Centrality = 52.0\n",
            "Alice Curwen: Betweenness Centrality = 0.0\n",
            "Alexander Parker: Betweenness Centrality = 40.0\n",
            "John Wilkinson: Betweenness Centrality = 13.166666666666664\n",
            "Thomas Aldam: Betweenness Centrality = 0.0\n",
            "David Barclay of Ury: Betweenness Centrality = 0.0\n",
            "David Barclay: Betweenness Centrality = 0.0\n",
            "Sir Charles Wager: Betweenness Centrality = 0.0\n",
            "George Keith: Betweenness Centrality = 0.0\n",
            "James Parnel: Betweenness Centrality = 0.0\n",
            "Peter Collinson: Betweenness Centrality = 0.0\n",
            "Franciscus Mercurius van Helmont: Betweenness Centrality = 0.0\n",
            "William Caton: Betweenness Centrality = 0.0\n",
            "Francis Howgill: Betweenness Centrality = 1.8333333333333333\n",
            "Richard Hubberthorne: Betweenness Centrality = 0.0\n",
            "William Ames: Betweenness Centrality = 0.0\n",
            "William Rogers: Betweenness Centrality = 0.0\n",
            "Isaac Norris: Betweenness Centrality = 0.0\n",
            "Anthony Sharp: Betweenness Centrality = 0.0\n",
            "Mary Fisher: Betweenness Centrality = 0.0\n",
            "Anne Conway Viscountess Conway and Killultagh: Betweenness Centrality = 0.0\n",
            "Samuel Fisher: Betweenness Centrality = 0.0\n",
            "Francis Bugg: Betweenness Centrality = 0.0\n",
            "Sarah Gibbons: Betweenness Centrality = 0.0\n",
            "William Tomlinson: Betweenness Centrality = 0.0\n",
            "Humphrey Norton: Betweenness Centrality = 0.0\n",
            "William Gibson: Betweenness Centrality = 0.0\n",
            "Gideon Wanton: Betweenness Centrality = 0.0\n",
            "John Wanton: Betweenness Centrality = 0.0\n",
            "Grace Chamber: Betweenness Centrality = 0.0\n",
            "Mary Prince: Betweenness Centrality = 0.0\n",
            "John Bartram: Betweenness Centrality = 0.0\n",
            "Edward Haistwell: Betweenness Centrality = 0.0\n",
            "John ap John: Betweenness Centrality = 0.0\n",
            "John Rous: Betweenness Centrality = 0.0\n",
            "Anthony Pearson: Betweenness Centrality = 0.0\n",
            "Solomon Eccles: Betweenness Centrality = 0.0\n",
            "John Burnyeat: Betweenness Centrality = 12.5\n",
            "Edward Burrough: Betweenness Centrality = 4.416666666666666\n",
            "Rebecca Travers: Betweenness Centrality = 4.5\n",
            "William Edmundson: Betweenness Centrality = 0.0\n",
            "Sarah Cheevers: Betweenness Centrality = 0.0\n",
            "Edward Pyott: Betweenness Centrality = 0.0\n",
            "Daniel Quare: Betweenness Centrality = 0.0\n",
            "John Penington: Betweenness Centrality = 0.0\n",
            "Mary Penington: Betweenness Centrality = 16.0\n",
            "Charles Marshall: Betweenness Centrality = 0.0\n",
            "Humphrey Woolrich: Betweenness Centrality = 0.0\n",
            "William Penn: Betweenness Centrality = 56.0\n",
            "Mary Pennyman: Betweenness Centrality = 0.0\n",
            "Dorothy Waugh: Betweenness Centrality = 0.0\n",
            "David Lloyd: Betweenness Centrality = 0.0\n",
            "Lewis Morris: Betweenness Centrality = 0.0\n",
            "Martha Simmonds: Betweenness Centrality = 0.8333333333333333\n",
            "John Story: Betweenness Centrality = 8.0\n",
            "Thomas Story: Betweenness Centrality = 0.0\n",
            "Thomas Ellwood: Betweenness Centrality = 0.0\n",
            "William Simpson: Betweenness Centrality = 0.0\n",
            "Samuel Bownas: Betweenness Centrality = 0.0\n",
            "John Perrot: Betweenness Centrality = 0.0\n",
            "Hannah Stranger: Betweenness Centrality = 0.0\n"
          ]
        }
      ]
    },
    {
      "cell_type": "code",
      "source": [
        "between_quakers = {node: centrality for node, centrality in QuakerCentrality.items()}"
      ],
      "metadata": {
        "id": "rqqLzqtrLq19"
      },
      "execution_count": null,
      "outputs": []
    },
    {
      "cell_type": "code",
      "source": [
        "import matplotlib.pyplot as plt\n",
        "\n",
        "QuakerMembers = list(ConnectedQuakers.keys())\n",
        "QCentrality = [QuakerCentrality[key] for key in QuakerMembers]\n",
        "QDegree = [ConnectedQuakers[key] for key in QuakerMembers]\n",
        "\n",
        "fig, ax = plt.subplots()\n",
        "ax.scatter(QDegree, QCentrality)\n",
        "\n",
        "\n",
        "for i, txt in enumerate(QuakerMembers):\n",
        "   ax.annotate(txt, ((QDegree[i]-2), QCentrality[i]+2))\n",
        "ax.set_ylabel('Betweenness Centrality')\n",
        "ax.set_xlabel('Degree')\n",
        "ax.set_xticks([0,1,2,3,4,5,6,7,8,9,10,15,20]);"
      ],
      "metadata": {
        "colab": {
          "base_uri": "https://localhost:8080/",
          "height": 449
        },
        "id": "62AfNkDUWlKR",
        "outputId": "e10e15f7-6e7f-4c45-87e1-8ab141cda3c0"
      },
      "execution_count": null,
      "outputs": [
        {
          "output_type": "display_data",
          "data": {
            "text/plain": [
              "<Figure size 640x480 with 1 Axes>"
            ],
            "image/png": "[encoded data removed]"
          },
          "metadata": {}
        }
      ]
    },
    {
      "cell_type": "code",
      "source": [
        "# who are the top 6 in Centrality\n",
        "#we sort the dictionary by its values in ascending order using the sorted() function and\n",
        "#a lambda function that specifies that the items in the dictionary should be sorted by their second element (i.e., their value).\n",
        "sorted_centrality = dict(sorted(between_quakers.items(), key=lambda item:item[1], reverse=True))\n",
        "\n",
        "for name, centrality in sorted_centrality.items():\n",
        "    print(name, centrality, ConnectedQuakers[name])"
      ],
      "metadata": {
        "colab": {
          "base_uri": "https://localhost:8080/"
        },
        "id": "8bGAbL6QdkJx",
        "outputId": "56ee21b7-efc6-48a7-eeff-c54418f55e0a"
      },
      "execution_count": null,
      "outputs": [
        {
          "output_type": "stream",
          "name": "stdout",
          "text": [
            "George Fox 141.0 17\n",
            "Margaret Fell 119.0 3\n",
            "George Whitehead 87.0 6\n",
            "James Nayler 73.0 12\n",
            "William Penn 56.0 7\n",
            "Thomas Curtis 52.0 3\n",
            "Benjamin Furly 48.0 4\n",
            "Alexander Parker 40.0 1\n",
            "John Stubbs 18.0 4\n",
            "Mary Penington 16.0 2\n",
            "John Burnyeat 11.0 2\n",
            "John Wilkinson 11.0 4\n",
            "Robert Barclay 11.0 1\n",
            "John Story 8.0 1\n",
            "Edward Burrough 5.0 3\n",
            "Richard Farnworth 4.0 3\n",
            "Francis Howgill 3.0 6\n",
            "Thomas Camm 3.0 2\n",
            "James Logan 3.0 3\n",
            "Martha Simmonds 2.0 2\n",
            "John Camm 2.0 3\n",
            "Samuel Clarridge 1.0 1\n",
            "Hannah Stranger 0.0 0\n",
            "John Perrot 0.0 0\n",
            "Samuel Bownas 0.0 0\n",
            "William Simpson 0.0 0\n",
            "Thomas Ellwood 0.0 0\n",
            "Thomas Story 0.0 0\n",
            "Lewis Morris 0.0 1\n",
            "David Lloyd 0.0 0\n",
            "Dorothy Waugh 0.0 0\n",
            "Mary Pennyman 0.0 0\n",
            "Humphrey Woolrich 0.0 1\n",
            "Charles Marshall 0.0 0\n",
            "John Penington 0.0 1\n",
            "Daniel Quare 0.0 0\n",
            "Edward Pyott 0.0 0\n",
            "Sarah Cheevers 0.0 0\n",
            "William Edmundson 0.0 0\n",
            "Rebecca Travers 0.0 2\n",
            "Solomon Eccles 0.0 1\n",
            "Anthony Pearson 0.0 0\n",
            "John Rous 0.0 0\n",
            "John ap John 0.0 1\n",
            "Edward Haistwell 0.0 1\n",
            "John Bartram 0.0 0\n",
            "Mary Prince 0.0 1\n",
            "Grace Chamber 0.0 0\n",
            "John Wanton 0.0 0\n",
            "Gideon Wanton 0.0 1\n",
            "William Gibson 0.0 1\n",
            "Humphrey Norton 0.0 1\n",
            "William Tomlinson 0.0 0\n",
            "Sarah Gibbons 0.0 1\n",
            "Francis Bugg 0.0 1\n",
            "Samuel Fisher 0.0 0\n",
            "Anne Conway Viscountess Conway and Killultagh 0.0 0\n",
            "Mary Fisher 0.0 2\n",
            "Anthony Sharp 0.0 3\n",
            "Isaac Norris 0.0 1\n",
            "William Rogers 0.0 2\n",
            "William Ames 0.0 1\n",
            "Richard Hubberthorne 0.0 2\n",
            "William Caton 0.0 1\n",
            "Franciscus Mercurius van Helmont 0.0 1\n",
            "Peter Collinson 0.0 2\n",
            "James Parnel 0.0 2\n",
            "George Keith 0.0 8\n",
            "Sir Charles Wager 0.0 0\n",
            "David Barclay 0.0 0\n",
            "David Barclay of Ury 0.0 0\n",
            "Thomas Aldam 0.0 1\n",
            "Alice Curwen 0.0 0\n",
            "Elizabeth Leavens 0.0 1\n",
            "George Bishop 0.0 0\n",
            "Leonard Fell 0.0 0\n",
            "Tace Sowle 0.0 0\n",
            "Jane Sowle 0.0 1\n",
            "Richard Vickris 0.0 1\n",
            "Thomas Taylor 0.0 1\n",
            "William Coddington 0.0 0\n",
            "Thomas Lawson 0.0 2\n",
            "Christopher Taylor 0.0 0\n",
            "John Whiting 0.0 1\n",
            "Robert Rich 0.0 1\n",
            "Silvanus Bevan 0.0 1\n",
            "William Crouch 0.0 0\n",
            "John Whitehead 0.0 0\n",
            "Elizabeth Hooten 0.0 0\n",
            "Joseph Besse 0.0 2\n",
            "Ellis Hookes 0.0 0\n",
            "Gilbert Latey 0.0 2\n",
            "John Crook 0.0 2\n",
            "Henry Pickworth 0.0 1\n",
            "William Mead 0.0 1\n",
            "John Swinton 0.0 1\n",
            "John Freame 0.0 1\n",
            "Thomas Holme 0.0 0\n",
            "James Claypoole 0.0 0\n",
            "Stephen Crisp 0.0 2\n",
            "Gervase Benson 0.0 1\n",
            "Thomas Lower 0.0 1\n",
            "Lydia Lancaster 0.0 1\n",
            "Katharine Evans 0.0 1\n",
            "Anne Camm 0.0 0\n",
            "George Fox the younger 0.0 1\n",
            "Isabel Yeamans 0.0 1\n",
            "John Bellers 0.0 1\n",
            "Fettiplace Bellers 0.0 0\n",
            "William Bradford 0.0 2\n",
            "Richard Claridge 0.0 0\n",
            "John Audland 0.0 6\n",
            "William Dewsbury 0.0 3\n",
            "Thomas Salthouse 0.0 1\n",
            "William Mucklow 0.0 1\n",
            "Lilias Skene 0.0 0\n",
            "Dorcas Erbery 0.0 1\n",
            "Alexander Skene of Newtyle 0.0 1\n",
            "Joseph Wyeth 0.0 1\n"
          ]
        }
      ]
    },
    {
      "cell_type": "code",
      "source": [
        "#notice that there are 2 women, Margaret Fell and Mary Pennington in the top 6 in centrality.\n",
        "#yet their degree is 3 and 2 respsectively\n",
        "print(ConnectedQuakers['Margaret Fell'])\n",
        "print(ConnectedQuakers['Mary Penington'])"
      ],
      "metadata": {
        "colab": {
          "base_uri": "https://localhost:8080/"
        },
        "id": "y2cbBbxLdqQc",
        "outputId": "519d48ce-b4be-4bdc-b5d5-932c2f1e489a"
      },
      "execution_count": null,
      "outputs": [
        {
          "output_type": "stream",
          "name": "stdout",
          "text": [
            "3\n",
            "2\n"
          ]
        }
      ]
    },
    {
      "cell_type": "code",
      "source": [
        "# Margaret Fell is the wife of George Fox and initially history thought of her solely in that role.\n",
        "# But network analysis and historical data have identified a more significant historical role.\n",
        "# After the death of George Fox in 1691, the Quaker movement became divided into two factions:\n",
        "# the \"Quietists\" and the \"Gurneyites.\" The Quietists believed in a more inward-focused spirituality and\n",
        "# rejected the outward expressions of Quakerism, such as vocal ministry and public meetings. The Gurneyites,\n",
        "# on the other hand, believed in a more outward-focused approach and supported the use of vocal ministry and\n",
        "# public meetings as a means of spreading the Quaker message.\n",
        "# Margaret Fell, who had been a close confidante of George Fox, was respected by both factions and played\n",
        "# an important role in bridging the divide between them. She urged both sides to seek unity and to focus on the\n",
        "# core principles of Quakerism, such as equality, simplicity, and peace. She also used her influence to mediate\n",
        "# disputes between the two factions and to encourage them to work together for the good of the movement.\n",
        "\n",
        "# Margaret Fell's efforts to promote unity and cooperation between the two factions were critical to the survival\n",
        "# and growth of the Quaker movement. Her leadership and diplomatic skills helped to prevent a permanent split in\n",
        "#the movement and to preserve its core principles and values.\n"
      ],
      "metadata": {
        "id": "srdXgbLKjqr_"
      },
      "execution_count": null,
      "outputs": []
    }
  ]
}